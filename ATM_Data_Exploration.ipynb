{
 "cells": [
  {
   "cell_type": "markdown",
   "id": "ec3f8008",
   "metadata": {},
   "source": [
    "# Use ATM_Payments_Distribution Notebook Template"
   ]
  },
  {
   "cell_type": "code",
   "execution_count": 8,
   "id": "519a90fb",
   "metadata": {},
   "outputs": [],
   "source": [
    "from fosforio import snowflake"
   ]
  },
  {
   "cell_type": "code",
   "execution_count": 6,
   "id": "7a51cc2d",
   "metadata": {},
   "outputs": [
    {
     "name": "stdout",
     "output_type": "stream",
     "text": [
      "User name picked from OS env: manishh.singh@fosfor.com\n",
      "Fetching connections created by manishh.singh@fosfor.com user\n",
      "Connection names fetched ['FDC_SNOWFLAKE', 'FDC_SNOWFLAKE', 'FDC_SNOWFLAKE', 'FDC_SNOWFLAKE'], created by manishh.singh@fosfor.com\n",
      "Exception occurred in getting snowflake connection: 'connectionSources'\n"
     ]
    }
   ],
   "source": [
    "# To get snowflake connection object with a default snowflake connection created by the user, if available.\n",
    "snowflake.get_connection()\n",
    "\n",
    "# To get snowflake connection object with a specific connection name\n",
    "#snowflake.get_connection(connection_name=\"FDC_SNOWFLAKE\")"
   ]
  },
  {
   "cell_type": "markdown",
   "id": "abe25ace",
   "metadata": {},
   "source": [
    "# ATM Meta data"
   ]
  },
  {
   "cell_type": "code",
   "execution_count": 12,
   "id": "5afa4b2e",
   "metadata": {},
   "outputs": [],
   "source": [
    "# To read a specific dataset published from a snowflake connection\n",
    "df_atm = snowflake.get_dataframe(\"ATM_METADATA\")"
   ]
  },
  {
   "cell_type": "code",
   "execution_count": 13,
   "id": "6afc3c99",
   "metadata": {},
   "outputs": [
    {
     "data": {
      "text/plain": [
       "(420, 6)"
      ]
     },
     "execution_count": 13,
     "metadata": {},
     "output_type": "execute_result"
    }
   ],
   "source": [
    "df_atm.shape"
   ]
  },
  {
   "cell_type": "code",
   "execution_count": 14,
   "id": "cbec60c0",
   "metadata": {
    "scrolled": true
   },
   "outputs": [
    {
     "name": "stdout",
     "output_type": "stream",
     "text": [
      "<class 'pandas.core.frame.DataFrame'>\n",
      "RangeIndex: 420 entries, 0 to 419\n",
      "Data columns (total 6 columns):\n",
      " #   Column        Non-Null Count  Dtype         \n",
      "---  ------        --------------  -----         \n",
      " 0   ATM_ID        420 non-null    object        \n",
      " 1   MAX_CAPACITY  420 non-null    float64       \n",
      " 2   BANK_ID       420 non-null    int8          \n",
      " 3   STATE         420 non-null    object        \n",
      " 4   CREATED_BY    420 non-null    object        \n",
      " 5   CREATED_AT    420 non-null    datetime64[ns]\n",
      "dtypes: datetime64[ns](1), float64(1), int8(1), object(3)\n",
      "memory usage: 16.9+ KB\n"
     ]
    }
   ],
   "source": [
    "df_atm.info()"
   ]
  },
  {
   "cell_type": "code",
   "execution_count": 15,
   "id": "9cb8a275",
   "metadata": {
    "scrolled": true
   },
   "outputs": [
    {
     "data": {
      "text/html": [
       "<div>\n",
       "<style scoped>\n",
       "    .dataframe tbody tr th:only-of-type {\n",
       "        vertical-align: middle;\n",
       "    }\n",
       "\n",
       "    .dataframe tbody tr th {\n",
       "        vertical-align: top;\n",
       "    }\n",
       "\n",
       "    .dataframe thead th {\n",
       "        text-align: right;\n",
       "    }\n",
       "</style>\n",
       "<table border=\"1\" class=\"dataframe\">\n",
       "  <thead>\n",
       "    <tr style=\"text-align: right;\">\n",
       "      <th></th>\n",
       "      <th>MAX_CAPACITY</th>\n",
       "      <th>BANK_ID</th>\n",
       "      <th>CREATED_AT</th>\n",
       "    </tr>\n",
       "  </thead>\n",
       "  <tbody>\n",
       "    <tr>\n",
       "      <th>count</th>\n",
       "      <td>4.200000e+02</td>\n",
       "      <td>420.00000</td>\n",
       "      <td>420</td>\n",
       "    </tr>\n",
       "    <tr>\n",
       "      <th>mean</th>\n",
       "      <td>3.300000e+06</td>\n",
       "      <td>2.00000</td>\n",
       "      <td>2024-05-14 07:43:27</td>\n",
       "    </tr>\n",
       "    <tr>\n",
       "      <th>min</th>\n",
       "      <td>2.420000e+06</td>\n",
       "      <td>1.00000</td>\n",
       "      <td>2024-05-14 07:43:27</td>\n",
       "    </tr>\n",
       "    <tr>\n",
       "      <th>25%</th>\n",
       "      <td>2.860000e+06</td>\n",
       "      <td>1.00000</td>\n",
       "      <td>2024-05-14 07:43:27</td>\n",
       "    </tr>\n",
       "    <tr>\n",
       "      <th>50%</th>\n",
       "      <td>3.520000e+06</td>\n",
       "      <td>2.00000</td>\n",
       "      <td>2024-05-14 07:43:27</td>\n",
       "    </tr>\n",
       "    <tr>\n",
       "      <th>75%</th>\n",
       "      <td>3.520000e+06</td>\n",
       "      <td>3.00000</td>\n",
       "      <td>2024-05-14 07:43:27</td>\n",
       "    </tr>\n",
       "    <tr>\n",
       "      <th>max</th>\n",
       "      <td>3.740000e+06</td>\n",
       "      <td>3.00000</td>\n",
       "      <td>2024-05-14 07:43:27</td>\n",
       "    </tr>\n",
       "    <tr>\n",
       "      <th>std</th>\n",
       "      <td>3.845215e+05</td>\n",
       "      <td>0.81747</td>\n",
       "      <td>NaN</td>\n",
       "    </tr>\n",
       "  </tbody>\n",
       "</table>\n",
       "</div>"
      ],
      "text/plain": [
       "       MAX_CAPACITY    BANK_ID           CREATED_AT\n",
       "count  4.200000e+02  420.00000                  420\n",
       "mean   3.300000e+06    2.00000  2024-05-14 07:43:27\n",
       "min    2.420000e+06    1.00000  2024-05-14 07:43:27\n",
       "25%    2.860000e+06    1.00000  2024-05-14 07:43:27\n",
       "50%    3.520000e+06    2.00000  2024-05-14 07:43:27\n",
       "75%    3.520000e+06    3.00000  2024-05-14 07:43:27\n",
       "max    3.740000e+06    3.00000  2024-05-14 07:43:27\n",
       "std    3.845215e+05    0.81747                  NaN"
      ]
     },
     "execution_count": 15,
     "metadata": {},
     "output_type": "execute_result"
    }
   ],
   "source": [
    "df_atm.describe()"
   ]
  },
  {
   "cell_type": "code",
   "execution_count": 16,
   "id": "20f90b7f",
   "metadata": {
    "scrolled": true
   },
   "outputs": [
    {
     "data": {
      "text/html": [
       "<div>\n",
       "<style scoped>\n",
       "    .dataframe tbody tr th:only-of-type {\n",
       "        vertical-align: middle;\n",
       "    }\n",
       "\n",
       "    .dataframe tbody tr th {\n",
       "        vertical-align: top;\n",
       "    }\n",
       "\n",
       "    .dataframe thead th {\n",
       "        text-align: right;\n",
       "    }\n",
       "</style>\n",
       "<table border=\"1\" class=\"dataframe\">\n",
       "  <thead>\n",
       "    <tr style=\"text-align: right;\">\n",
       "      <th></th>\n",
       "      <th>ATM_ID</th>\n",
       "      <th>MAX_CAPACITY</th>\n",
       "      <th>BANK_ID</th>\n",
       "      <th>STATE</th>\n",
       "      <th>CREATED_BY</th>\n",
       "      <th>CREATED_AT</th>\n",
       "    </tr>\n",
       "  </thead>\n",
       "  <tbody>\n",
       "    <tr>\n",
       "      <th>0</th>\n",
       "      <td>SPCN2020</td>\n",
       "      <td>2640000.0</td>\n",
       "      <td>1</td>\n",
       "      <td>Michigan</td>\n",
       "      <td>manishh.singh@fosfor.com</td>\n",
       "      <td>2024-05-14 07:43:27</td>\n",
       "    </tr>\n",
       "    <tr>\n",
       "      <th>1</th>\n",
       "      <td>TBH00000303920</td>\n",
       "      <td>3520000.0</td>\n",
       "      <td>3</td>\n",
       "      <td>Minnesota</td>\n",
       "      <td>manishh.singh@fosfor.com</td>\n",
       "      <td>2024-05-14 07:43:27</td>\n",
       "    </tr>\n",
       "    <tr>\n",
       "      <th>2</th>\n",
       "      <td>TBH00000303919</td>\n",
       "      <td>3520000.0</td>\n",
       "      <td>3</td>\n",
       "      <td>Hawaii</td>\n",
       "      <td>manishh.singh@fosfor.com</td>\n",
       "      <td>2024-05-14 07:43:27</td>\n",
       "    </tr>\n",
       "    <tr>\n",
       "      <th>3</th>\n",
       "      <td>TBH00000303918</td>\n",
       "      <td>3520000.0</td>\n",
       "      <td>3</td>\n",
       "      <td>Utah</td>\n",
       "      <td>manishh.singh@fosfor.com</td>\n",
       "      <td>2024-05-14 07:43:27</td>\n",
       "    </tr>\n",
       "    <tr>\n",
       "      <th>4</th>\n",
       "      <td>TBH00000303917</td>\n",
       "      <td>3520000.0</td>\n",
       "      <td>3</td>\n",
       "      <td>Oregon</td>\n",
       "      <td>manishh.singh@fosfor.com</td>\n",
       "      <td>2024-05-14 07:43:27</td>\n",
       "    </tr>\n",
       "  </tbody>\n",
       "</table>\n",
       "</div>"
      ],
      "text/plain": [
       "           ATM_ID  MAX_CAPACITY  BANK_ID      STATE                CREATED_BY  \\\n",
       "0        SPCN2020     2640000.0        1   Michigan  manishh.singh@fosfor.com   \n",
       "1  TBH00000303920     3520000.0        3  Minnesota  manishh.singh@fosfor.com   \n",
       "2  TBH00000303919     3520000.0        3     Hawaii  manishh.singh@fosfor.com   \n",
       "3  TBH00000303918     3520000.0        3       Utah  manishh.singh@fosfor.com   \n",
       "4  TBH00000303917     3520000.0        3     Oregon  manishh.singh@fosfor.com   \n",
       "\n",
       "           CREATED_AT  \n",
       "0 2024-05-14 07:43:27  \n",
       "1 2024-05-14 07:43:27  \n",
       "2 2024-05-14 07:43:27  \n",
       "3 2024-05-14 07:43:27  \n",
       "4 2024-05-14 07:43:27  "
      ]
     },
     "execution_count": 16,
     "metadata": {},
     "output_type": "execute_result"
    }
   ],
   "source": [
    "df_atm.head()"
   ]
  },
  {
   "cell_type": "code",
   "execution_count": 18,
   "id": "3c525575",
   "metadata": {
    "scrolled": false
   },
   "outputs": [
    {
     "data": {
      "text/plain": [
       "ATM_ID          0\n",
       "MAX_CAPACITY    0\n",
       "BANK_ID         0\n",
       "STATE           0\n",
       "CREATED_BY      0\n",
       "CREATED_AT      0\n",
       "dtype: int64"
      ]
     },
     "execution_count": 18,
     "metadata": {},
     "output_type": "execute_result"
    }
   ],
   "source": [
    "df_atm.isnull().sum()"
   ]
  },
  {
   "cell_type": "code",
   "execution_count": 21,
   "id": "a9e48e5e",
   "metadata": {
    "scrolled": true
   },
   "outputs": [
    {
     "name": "stdout",
     "output_type": "stream",
     "text": [
      "------------------------------------------------\n",
      "ATM_ID  ->  420\n",
      "------------------------------------------------\n",
      "STATE  ->  50\n"
     ]
    }
   ],
   "source": [
    "cols = ['ATM_ID','STATE']\n",
    "for col in cols:\n",
    "    print (\"------------------------------------------------\")\n",
    "    print (col, \" -> \",df_atm[col].nunique())"
   ]
  },
  {
   "cell_type": "markdown",
   "id": "b503ddd3",
   "metadata": {},
   "source": [
    "# BANKS Meta data"
   ]
  },
  {
   "cell_type": "code",
   "execution_count": 22,
   "id": "aab257f9",
   "metadata": {},
   "outputs": [],
   "source": [
    "# To read a specific dataset published from a snowflake connection\n",
    "df_bank = snowflake.get_dataframe(\"ATM_BANK_METADATA\")"
   ]
  },
  {
   "cell_type": "code",
   "execution_count": 23,
   "id": "a4c2cd69",
   "metadata": {},
   "outputs": [
    {
     "data": {
      "text/plain": [
       "(3, 4)"
      ]
     },
     "execution_count": 23,
     "metadata": {},
     "output_type": "execute_result"
    }
   ],
   "source": [
    "df_bank.shape"
   ]
  },
  {
   "cell_type": "code",
   "execution_count": 24,
   "id": "e24cf7ed",
   "metadata": {},
   "outputs": [
    {
     "name": "stdout",
     "output_type": "stream",
     "text": [
      "<class 'pandas.core.frame.DataFrame'>\n",
      "RangeIndex: 3 entries, 0 to 2\n",
      "Data columns (total 4 columns):\n",
      " #   Column      Non-Null Count  Dtype         \n",
      "---  ------      --------------  -----         \n",
      " 0   BANK_ID     3 non-null      int8          \n",
      " 1   BANK_NAME   3 non-null      object        \n",
      " 2   CREATED_BY  3 non-null      object        \n",
      " 3   CREATED_AT  3 non-null      datetime64[ns]\n",
      "dtypes: datetime64[ns](1), int8(1), object(2)\n",
      "memory usage: 203.0+ bytes\n"
     ]
    }
   ],
   "source": [
    "df_bank.info()"
   ]
  },
  {
   "cell_type": "code",
   "execution_count": 25,
   "id": "eabad596",
   "metadata": {},
   "outputs": [
    {
     "data": {
      "text/html": [
       "<div>\n",
       "<style scoped>\n",
       "    .dataframe tbody tr th:only-of-type {\n",
       "        vertical-align: middle;\n",
       "    }\n",
       "\n",
       "    .dataframe tbody tr th {\n",
       "        vertical-align: top;\n",
       "    }\n",
       "\n",
       "    .dataframe thead th {\n",
       "        text-align: right;\n",
       "    }\n",
       "</style>\n",
       "<table border=\"1\" class=\"dataframe\">\n",
       "  <thead>\n",
       "    <tr style=\"text-align: right;\">\n",
       "      <th></th>\n",
       "      <th>BANK_ID</th>\n",
       "      <th>CREATED_AT</th>\n",
       "    </tr>\n",
       "  </thead>\n",
       "  <tbody>\n",
       "    <tr>\n",
       "      <th>count</th>\n",
       "      <td>3.0</td>\n",
       "      <td>3</td>\n",
       "    </tr>\n",
       "    <tr>\n",
       "      <th>mean</th>\n",
       "      <td>2.0</td>\n",
       "      <td>2024-05-14 07:47:20</td>\n",
       "    </tr>\n",
       "    <tr>\n",
       "      <th>min</th>\n",
       "      <td>1.0</td>\n",
       "      <td>2024-05-14 07:47:20</td>\n",
       "    </tr>\n",
       "    <tr>\n",
       "      <th>25%</th>\n",
       "      <td>1.5</td>\n",
       "      <td>2024-05-14 07:47:20</td>\n",
       "    </tr>\n",
       "    <tr>\n",
       "      <th>50%</th>\n",
       "      <td>2.0</td>\n",
       "      <td>2024-05-14 07:47:20</td>\n",
       "    </tr>\n",
       "    <tr>\n",
       "      <th>75%</th>\n",
       "      <td>2.5</td>\n",
       "      <td>2024-05-14 07:47:20</td>\n",
       "    </tr>\n",
       "    <tr>\n",
       "      <th>max</th>\n",
       "      <td>3.0</td>\n",
       "      <td>2024-05-14 07:47:20</td>\n",
       "    </tr>\n",
       "    <tr>\n",
       "      <th>std</th>\n",
       "      <td>1.0</td>\n",
       "      <td>NaN</td>\n",
       "    </tr>\n",
       "  </tbody>\n",
       "</table>\n",
       "</div>"
      ],
      "text/plain": [
       "       BANK_ID           CREATED_AT\n",
       "count      3.0                    3\n",
       "mean       2.0  2024-05-14 07:47:20\n",
       "min        1.0  2024-05-14 07:47:20\n",
       "25%        1.5  2024-05-14 07:47:20\n",
       "50%        2.0  2024-05-14 07:47:20\n",
       "75%        2.5  2024-05-14 07:47:20\n",
       "max        3.0  2024-05-14 07:47:20\n",
       "std        1.0                  NaN"
      ]
     },
     "execution_count": 25,
     "metadata": {},
     "output_type": "execute_result"
    }
   ],
   "source": [
    "df_bank.describe()"
   ]
  },
  {
   "cell_type": "code",
   "execution_count": 26,
   "id": "5ead74e7",
   "metadata": {
    "scrolled": true
   },
   "outputs": [
    {
     "data": {
      "text/html": [
       "<div>\n",
       "<style scoped>\n",
       "    .dataframe tbody tr th:only-of-type {\n",
       "        vertical-align: middle;\n",
       "    }\n",
       "\n",
       "    .dataframe tbody tr th {\n",
       "        vertical-align: top;\n",
       "    }\n",
       "\n",
       "    .dataframe thead th {\n",
       "        text-align: right;\n",
       "    }\n",
       "</style>\n",
       "<table border=\"1\" class=\"dataframe\">\n",
       "  <thead>\n",
       "    <tr style=\"text-align: right;\">\n",
       "      <th></th>\n",
       "      <th>BANK_ID</th>\n",
       "      <th>BANK_NAME</th>\n",
       "      <th>CREATED_BY</th>\n",
       "      <th>CREATED_AT</th>\n",
       "    </tr>\n",
       "  </thead>\n",
       "  <tbody>\n",
       "    <tr>\n",
       "      <th>0</th>\n",
       "      <td>1</td>\n",
       "      <td>Wells Fargo</td>\n",
       "      <td>manishh.singh@fosfor.com</td>\n",
       "      <td>2024-05-14 07:47:20</td>\n",
       "    </tr>\n",
       "    <tr>\n",
       "      <th>1</th>\n",
       "      <td>2</td>\n",
       "      <td>BNY Mellon</td>\n",
       "      <td>manishh.singh@fosfor.com</td>\n",
       "      <td>2024-05-14 07:47:20</td>\n",
       "    </tr>\n",
       "    <tr>\n",
       "      <th>2</th>\n",
       "      <td>3</td>\n",
       "      <td>Citibank</td>\n",
       "      <td>manishh.singh@fosfor.com</td>\n",
       "      <td>2024-05-14 07:47:20</td>\n",
       "    </tr>\n",
       "  </tbody>\n",
       "</table>\n",
       "</div>"
      ],
      "text/plain": [
       "   BANK_ID    BANK_NAME                CREATED_BY          CREATED_AT\n",
       "0        1  Wells Fargo  manishh.singh@fosfor.com 2024-05-14 07:47:20\n",
       "1        2   BNY Mellon  manishh.singh@fosfor.com 2024-05-14 07:47:20\n",
       "2        3     Citibank  manishh.singh@fosfor.com 2024-05-14 07:47:20"
      ]
     },
     "execution_count": 26,
     "metadata": {},
     "output_type": "execute_result"
    }
   ],
   "source": [
    "df_bank.head()"
   ]
  },
  {
   "cell_type": "code",
   "execution_count": 27,
   "id": "06ba1433",
   "metadata": {},
   "outputs": [
    {
     "data": {
      "text/plain": [
       "BANK_ID       0\n",
       "BANK_NAME     0\n",
       "CREATED_BY    0\n",
       "CREATED_AT    0\n",
       "dtype: int64"
      ]
     },
     "execution_count": 27,
     "metadata": {},
     "output_type": "execute_result"
    }
   ],
   "source": [
    "df_bank.isnull().sum()"
   ]
  },
  {
   "cell_type": "code",
   "execution_count": 28,
   "id": "f90b4950",
   "metadata": {},
   "outputs": [
    {
     "name": "stdout",
     "output_type": "stream",
     "text": [
      "------------------------------------------------\n",
      "BANK_NAME  ->  3\n"
     ]
    }
   ],
   "source": [
    "cols = ['BANK_NAME']\n",
    "for col in cols:\n",
    "    print (\"------------------------------------------------\")\n",
    "    print (col, \" -> \",df_bank[col].nunique())"
   ]
  },
  {
   "cell_type": "code",
   "execution_count": 29,
   "id": "9ae497b5",
   "metadata": {},
   "outputs": [],
   "source": [
    "# DATE Metadata"
   ]
  },
  {
   "cell_type": "code",
   "execution_count": 30,
   "id": "e4f4cf75",
   "metadata": {},
   "outputs": [],
   "source": [
    "# To read a specific dataset published from a snowflake connection\n",
    "df_date = snowflake.get_dataframe(\"ATM_DATE_METADATA\")"
   ]
  },
  {
   "cell_type": "code",
   "execution_count": 31,
   "id": "bda2108c",
   "metadata": {},
   "outputs": [
    {
     "data": {
      "text/plain": [
       "(783, 5)"
      ]
     },
     "execution_count": 31,
     "metadata": {},
     "output_type": "execute_result"
    }
   ],
   "source": [
    "df_date.shape"
   ]
  },
  {
   "cell_type": "code",
   "execution_count": 32,
   "id": "04911cdc",
   "metadata": {},
   "outputs": [
    {
     "name": "stdout",
     "output_type": "stream",
     "text": [
      "<class 'pandas.core.frame.DataFrame'>\n",
      "RangeIndex: 783 entries, 0 to 782\n",
      "Data columns (total 5 columns):\n",
      " #   Column      Non-Null Count  Dtype         \n",
      "---  ------      --------------  -----         \n",
      " 0   DATE        783 non-null    object        \n",
      " 1   WEEKDAY     783 non-null    object        \n",
      " 2   HOLIDAY     783 non-null    bool          \n",
      " 3   CREATED_BY  783 non-null    object        \n",
      " 4   CREATED_AT  783 non-null    datetime64[ns]\n",
      "dtypes: bool(1), datetime64[ns](1), object(3)\n",
      "memory usage: 25.4+ KB\n"
     ]
    }
   ],
   "source": [
    "df_date.info()"
   ]
  },
  {
   "cell_type": "code",
   "execution_count": 33,
   "id": "d2eb4c3a",
   "metadata": {},
   "outputs": [
    {
     "data": {
      "text/html": [
       "<div>\n",
       "<style scoped>\n",
       "    .dataframe tbody tr th:only-of-type {\n",
       "        vertical-align: middle;\n",
       "    }\n",
       "\n",
       "    .dataframe tbody tr th {\n",
       "        vertical-align: top;\n",
       "    }\n",
       "\n",
       "    .dataframe thead th {\n",
       "        text-align: right;\n",
       "    }\n",
       "</style>\n",
       "<table border=\"1\" class=\"dataframe\">\n",
       "  <thead>\n",
       "    <tr style=\"text-align: right;\">\n",
       "      <th></th>\n",
       "      <th>CREATED_AT</th>\n",
       "    </tr>\n",
       "  </thead>\n",
       "  <tbody>\n",
       "    <tr>\n",
       "      <th>count</th>\n",
       "      <td>783</td>\n",
       "    </tr>\n",
       "    <tr>\n",
       "      <th>mean</th>\n",
       "      <td>2024-05-14 07:43:32.999999488</td>\n",
       "    </tr>\n",
       "    <tr>\n",
       "      <th>min</th>\n",
       "      <td>2024-05-14 07:43:33</td>\n",
       "    </tr>\n",
       "    <tr>\n",
       "      <th>25%</th>\n",
       "      <td>2024-05-14 07:43:33</td>\n",
       "    </tr>\n",
       "    <tr>\n",
       "      <th>50%</th>\n",
       "      <td>2024-05-14 07:43:33</td>\n",
       "    </tr>\n",
       "    <tr>\n",
       "      <th>75%</th>\n",
       "      <td>2024-05-14 07:43:33</td>\n",
       "    </tr>\n",
       "    <tr>\n",
       "      <th>max</th>\n",
       "      <td>2024-05-14 07:43:33</td>\n",
       "    </tr>\n",
       "  </tbody>\n",
       "</table>\n",
       "</div>"
      ],
      "text/plain": [
       "                          CREATED_AT\n",
       "count                            783\n",
       "mean   2024-05-14 07:43:32.999999488\n",
       "min              2024-05-14 07:43:33\n",
       "25%              2024-05-14 07:43:33\n",
       "50%              2024-05-14 07:43:33\n",
       "75%              2024-05-14 07:43:33\n",
       "max              2024-05-14 07:43:33"
      ]
     },
     "execution_count": 33,
     "metadata": {},
     "output_type": "execute_result"
    }
   ],
   "source": [
    "df_date.describe()"
   ]
  },
  {
   "cell_type": "code",
   "execution_count": 34,
   "id": "936e90d0",
   "metadata": {},
   "outputs": [
    {
     "data": {
      "text/html": [
       "<div>\n",
       "<style scoped>\n",
       "    .dataframe tbody tr th:only-of-type {\n",
       "        vertical-align: middle;\n",
       "    }\n",
       "\n",
       "    .dataframe tbody tr th {\n",
       "        vertical-align: top;\n",
       "    }\n",
       "\n",
       "    .dataframe thead th {\n",
       "        text-align: right;\n",
       "    }\n",
       "</style>\n",
       "<table border=\"1\" class=\"dataframe\">\n",
       "  <thead>\n",
       "    <tr style=\"text-align: right;\">\n",
       "      <th></th>\n",
       "      <th>DATE</th>\n",
       "      <th>WEEKDAY</th>\n",
       "      <th>HOLIDAY</th>\n",
       "      <th>CREATED_BY</th>\n",
       "      <th>CREATED_AT</th>\n",
       "    </tr>\n",
       "  </thead>\n",
       "  <tbody>\n",
       "    <tr>\n",
       "      <th>0</th>\n",
       "      <td>2021-01-01</td>\n",
       "      <td>weekend</td>\n",
       "      <td>True</td>\n",
       "      <td>manishh.singh@fosfor.com</td>\n",
       "      <td>2024-05-14 07:43:33</td>\n",
       "    </tr>\n",
       "    <tr>\n",
       "      <th>1</th>\n",
       "      <td>2023-02-22</td>\n",
       "      <td>weekday</td>\n",
       "      <td>False</td>\n",
       "      <td>manishh.singh@fosfor.com</td>\n",
       "      <td>2024-05-14 07:43:33</td>\n",
       "    </tr>\n",
       "    <tr>\n",
       "      <th>2</th>\n",
       "      <td>2023-02-21</td>\n",
       "      <td>weekday</td>\n",
       "      <td>False</td>\n",
       "      <td>manishh.singh@fosfor.com</td>\n",
       "      <td>2024-05-14 07:43:33</td>\n",
       "    </tr>\n",
       "    <tr>\n",
       "      <th>3</th>\n",
       "      <td>2023-02-20</td>\n",
       "      <td>weekday</td>\n",
       "      <td>True</td>\n",
       "      <td>manishh.singh@fosfor.com</td>\n",
       "      <td>2024-05-14 07:43:33</td>\n",
       "    </tr>\n",
       "    <tr>\n",
       "      <th>4</th>\n",
       "      <td>2023-02-19</td>\n",
       "      <td>weekday</td>\n",
       "      <td>False</td>\n",
       "      <td>manishh.singh@fosfor.com</td>\n",
       "      <td>2024-05-14 07:43:33</td>\n",
       "    </tr>\n",
       "  </tbody>\n",
       "</table>\n",
       "</div>"
      ],
      "text/plain": [
       "         DATE  WEEKDAY  HOLIDAY                CREATED_BY          CREATED_AT\n",
       "0  2021-01-01  weekend     True  manishh.singh@fosfor.com 2024-05-14 07:43:33\n",
       "1  2023-02-22  weekday    False  manishh.singh@fosfor.com 2024-05-14 07:43:33\n",
       "2  2023-02-21  weekday    False  manishh.singh@fosfor.com 2024-05-14 07:43:33\n",
       "3  2023-02-20  weekday     True  manishh.singh@fosfor.com 2024-05-14 07:43:33\n",
       "4  2023-02-19  weekday    False  manishh.singh@fosfor.com 2024-05-14 07:43:33"
      ]
     },
     "execution_count": 34,
     "metadata": {},
     "output_type": "execute_result"
    }
   ],
   "source": [
    "df_date.head()"
   ]
  },
  {
   "cell_type": "code",
   "execution_count": 35,
   "id": "17c0ec00",
   "metadata": {
    "scrolled": true
   },
   "outputs": [
    {
     "data": {
      "text/plain": [
       "DATE          0\n",
       "WEEKDAY       0\n",
       "HOLIDAY       0\n",
       "CREATED_BY    0\n",
       "CREATED_AT    0\n",
       "dtype: int64"
      ]
     },
     "execution_count": 35,
     "metadata": {},
     "output_type": "execute_result"
    }
   ],
   "source": [
    "df_date.isnull().sum()"
   ]
  },
  {
   "cell_type": "code",
   "execution_count": 36,
   "id": "80ef0496",
   "metadata": {
    "scrolled": true
   },
   "outputs": [
    {
     "name": "stdout",
     "output_type": "stream",
     "text": [
      "------------------------------------------------\n",
      "DATE  ->  783\n",
      "------------------------------------------------\n",
      "WEEKDAY  ->  2\n",
      "------------------------------------------------\n",
      "HOLIDAY  ->  2\n"
     ]
    }
   ],
   "source": [
    "cols = ['DATE','WEEKDAY','HOLIDAY']\n",
    "for col in cols:\n",
    "    print (\"------------------------------------------------\")\n",
    "    print (col, \" -> \",df_date[col].nunique())"
   ]
  },
  {
   "cell_type": "markdown",
   "id": "7d957388",
   "metadata": {},
   "source": [
    "# TRANSACTION METADATA"
   ]
  },
  {
   "cell_type": "code",
   "execution_count": 37,
   "id": "b3cc9944",
   "metadata": {},
   "outputs": [],
   "source": [
    "# To read a specific dataset published from a snowflake connection\n",
    "df_trans = snowflake.get_dataframe(\"ATM_TRANSACTION_METADATA\")"
   ]
  },
  {
   "cell_type": "code",
   "execution_count": 38,
   "id": "9b03cde0",
   "metadata": {},
   "outputs": [
    {
     "data": {
      "text/plain": [
       "(328860, 7)"
      ]
     },
     "execution_count": 38,
     "metadata": {},
     "output_type": "execute_result"
    }
   ],
   "source": [
    "df_trans.shape"
   ]
  },
  {
   "cell_type": "code",
   "execution_count": 39,
   "id": "bf43b6ae",
   "metadata": {},
   "outputs": [
    {
     "name": "stdout",
     "output_type": "stream",
     "text": [
      "<class 'pandas.core.frame.DataFrame'>\n",
      "RangeIndex: 328860 entries, 0 to 328859\n",
      "Data columns (total 7 columns):\n",
      " #   Column         Non-Null Count   Dtype         \n",
      "---  ------         --------------   -----         \n",
      " 0   ATMID          328860 non-null  object        \n",
      " 1   DATE           328860 non-null  object        \n",
      " 2   DISPENSE       328860 non-null  float64       \n",
      " 3   DT             328860 non-null  float64       \n",
      " 4   COUNTTOTALTXN  328860 non-null  float64       \n",
      " 5   CREATED_BY     328860 non-null  object        \n",
      " 6   CREATED_AT     328860 non-null  datetime64[ns]\n",
      "dtypes: datetime64[ns](1), float64(3), object(3)\n",
      "memory usage: 17.6+ MB\n"
     ]
    }
   ],
   "source": [
    "df_trans.info()"
   ]
  },
  {
   "cell_type": "code",
   "execution_count": 40,
   "id": "096b8dbf",
   "metadata": {},
   "outputs": [
    {
     "data": {
      "text/html": [
       "<div>\n",
       "<style scoped>\n",
       "    .dataframe tbody tr th:only-of-type {\n",
       "        vertical-align: middle;\n",
       "    }\n",
       "\n",
       "    .dataframe tbody tr th {\n",
       "        vertical-align: top;\n",
       "    }\n",
       "\n",
       "    .dataframe thead th {\n",
       "        text-align: right;\n",
       "    }\n",
       "</style>\n",
       "<table border=\"1\" class=\"dataframe\">\n",
       "  <thead>\n",
       "    <tr style=\"text-align: right;\">\n",
       "      <th></th>\n",
       "      <th>DISPENSE</th>\n",
       "      <th>DT</th>\n",
       "      <th>COUNTTOTALTXN</th>\n",
       "      <th>CREATED_AT</th>\n",
       "    </tr>\n",
       "  </thead>\n",
       "  <tbody>\n",
       "    <tr>\n",
       "      <th>count</th>\n",
       "      <td>3.288600e+05</td>\n",
       "      <td>328860.000000</td>\n",
       "      <td>328860.000000</td>\n",
       "      <td>328860</td>\n",
       "    </tr>\n",
       "    <tr>\n",
       "      <th>mean</th>\n",
       "      <td>3.217324e+05</td>\n",
       "      <td>126.453506</td>\n",
       "      <td>83.735632</td>\n",
       "      <td>2024-05-14 07:43:40.000001280</td>\n",
       "    </tr>\n",
       "    <tr>\n",
       "      <th>min</th>\n",
       "      <td>0.000000e+00</td>\n",
       "      <td>0.000000</td>\n",
       "      <td>0.000000</td>\n",
       "      <td>2024-05-14 07:43:40</td>\n",
       "    </tr>\n",
       "    <tr>\n",
       "      <th>25%</th>\n",
       "      <td>7.227000e+04</td>\n",
       "      <td>0.000000</td>\n",
       "      <td>22.000000</td>\n",
       "      <td>2024-05-14 07:43:40</td>\n",
       "    </tr>\n",
       "    <tr>\n",
       "      <th>50%</th>\n",
       "      <td>2.866500e+05</td>\n",
       "      <td>0.000000</td>\n",
       "      <td>78.000000</td>\n",
       "      <td>2024-05-14 07:43:40</td>\n",
       "    </tr>\n",
       "    <tr>\n",
       "      <th>75%</th>\n",
       "      <td>4.904100e+05</td>\n",
       "      <td>37.000000</td>\n",
       "      <td>124.000000</td>\n",
       "      <td>2024-05-14 07:43:40</td>\n",
       "    </tr>\n",
       "    <tr>\n",
       "      <th>max</th>\n",
       "      <td>1.936620e+06</td>\n",
       "      <td>1296.000000</td>\n",
       "      <td>504.000000</td>\n",
       "      <td>2024-05-14 07:43:40</td>\n",
       "    </tr>\n",
       "    <tr>\n",
       "      <th>std</th>\n",
       "      <td>2.818005e+05</td>\n",
       "      <td>305.196984</td>\n",
       "      <td>71.546692</td>\n",
       "      <td>NaN</td>\n",
       "    </tr>\n",
       "  </tbody>\n",
       "</table>\n",
       "</div>"
      ],
      "text/plain": [
       "           DISPENSE             DT  COUNTTOTALTXN  \\\n",
       "count  3.288600e+05  328860.000000  328860.000000   \n",
       "mean   3.217324e+05     126.453506      83.735632   \n",
       "min    0.000000e+00       0.000000       0.000000   \n",
       "25%    7.227000e+04       0.000000      22.000000   \n",
       "50%    2.866500e+05       0.000000      78.000000   \n",
       "75%    4.904100e+05      37.000000     124.000000   \n",
       "max    1.936620e+06    1296.000000     504.000000   \n",
       "std    2.818005e+05     305.196984      71.546692   \n",
       "\n",
       "                          CREATED_AT  \n",
       "count                         328860  \n",
       "mean   2024-05-14 07:43:40.000001280  \n",
       "min              2024-05-14 07:43:40  \n",
       "25%              2024-05-14 07:43:40  \n",
       "50%              2024-05-14 07:43:40  \n",
       "75%              2024-05-14 07:43:40  \n",
       "max              2024-05-14 07:43:40  \n",
       "std                              NaN  "
      ]
     },
     "execution_count": 40,
     "metadata": {},
     "output_type": "execute_result"
    }
   ],
   "source": [
    "df_trans.describe()"
   ]
  },
  {
   "cell_type": "code",
   "execution_count": 41,
   "id": "231f0d30",
   "metadata": {},
   "outputs": [
    {
     "data": {
      "text/html": [
       "<div>\n",
       "<style scoped>\n",
       "    .dataframe tbody tr th:only-of-type {\n",
       "        vertical-align: middle;\n",
       "    }\n",
       "\n",
       "    .dataframe tbody tr th {\n",
       "        vertical-align: top;\n",
       "    }\n",
       "\n",
       "    .dataframe thead th {\n",
       "        text-align: right;\n",
       "    }\n",
       "</style>\n",
       "<table border=\"1\" class=\"dataframe\">\n",
       "  <thead>\n",
       "    <tr style=\"text-align: right;\">\n",
       "      <th></th>\n",
       "      <th>ATMID</th>\n",
       "      <th>DATE</th>\n",
       "      <th>DISPENSE</th>\n",
       "      <th>DT</th>\n",
       "      <th>COUNTTOTALTXN</th>\n",
       "      <th>CREATED_BY</th>\n",
       "      <th>CREATED_AT</th>\n",
       "    </tr>\n",
       "  </thead>\n",
       "  <tbody>\n",
       "    <tr>\n",
       "      <th>0</th>\n",
       "      <td>TBH000274025</td>\n",
       "      <td>2023-01-29</td>\n",
       "      <td>225180.0</td>\n",
       "      <td>0.0</td>\n",
       "      <td>90.0</td>\n",
       "      <td>manishh.singh@fosfor.com</td>\n",
       "      <td>2024-05-14 07:43:40</td>\n",
       "    </tr>\n",
       "    <tr>\n",
       "      <th>1</th>\n",
       "      <td>TBH000274025</td>\n",
       "      <td>2023-01-30</td>\n",
       "      <td>262440.0</td>\n",
       "      <td>0.0</td>\n",
       "      <td>117.0</td>\n",
       "      <td>manishh.singh@fosfor.com</td>\n",
       "      <td>2024-05-14 07:43:40</td>\n",
       "    </tr>\n",
       "    <tr>\n",
       "      <th>2</th>\n",
       "      <td>TBH000274025</td>\n",
       "      <td>2023-01-31</td>\n",
       "      <td>561150.0</td>\n",
       "      <td>0.0</td>\n",
       "      <td>160.0</td>\n",
       "      <td>manishh.singh@fosfor.com</td>\n",
       "      <td>2024-05-14 07:43:40</td>\n",
       "    </tr>\n",
       "    <tr>\n",
       "      <th>3</th>\n",
       "      <td>TBH000274025</td>\n",
       "      <td>2023-02-01</td>\n",
       "      <td>437220.0</td>\n",
       "      <td>0.0</td>\n",
       "      <td>129.0</td>\n",
       "      <td>manishh.singh@fosfor.com</td>\n",
       "      <td>2024-05-14 07:43:40</td>\n",
       "    </tr>\n",
       "    <tr>\n",
       "      <th>4</th>\n",
       "      <td>TBH000274025</td>\n",
       "      <td>2023-02-02</td>\n",
       "      <td>360900.0</td>\n",
       "      <td>0.0</td>\n",
       "      <td>119.0</td>\n",
       "      <td>manishh.singh@fosfor.com</td>\n",
       "      <td>2024-05-14 07:43:40</td>\n",
       "    </tr>\n",
       "  </tbody>\n",
       "</table>\n",
       "</div>"
      ],
      "text/plain": [
       "          ATMID        DATE  DISPENSE   DT  COUNTTOTALTXN  \\\n",
       "0  TBH000274025  2023-01-29  225180.0  0.0           90.0   \n",
       "1  TBH000274025  2023-01-30  262440.0  0.0          117.0   \n",
       "2  TBH000274025  2023-01-31  561150.0  0.0          160.0   \n",
       "3  TBH000274025  2023-02-01  437220.0  0.0          129.0   \n",
       "4  TBH000274025  2023-02-02  360900.0  0.0          119.0   \n",
       "\n",
       "                 CREATED_BY          CREATED_AT  \n",
       "0  manishh.singh@fosfor.com 2024-05-14 07:43:40  \n",
       "1  manishh.singh@fosfor.com 2024-05-14 07:43:40  \n",
       "2  manishh.singh@fosfor.com 2024-05-14 07:43:40  \n",
       "3  manishh.singh@fosfor.com 2024-05-14 07:43:40  \n",
       "4  manishh.singh@fosfor.com 2024-05-14 07:43:40  "
      ]
     },
     "execution_count": 41,
     "metadata": {},
     "output_type": "execute_result"
    }
   ],
   "source": [
    "df_trans.head()"
   ]
  },
  {
   "cell_type": "code",
   "execution_count": 42,
   "id": "8dd5694f",
   "metadata": {},
   "outputs": [
    {
     "data": {
      "text/plain": [
       "ATMID            0\n",
       "DATE             0\n",
       "DISPENSE         0\n",
       "DT               0\n",
       "COUNTTOTALTXN    0\n",
       "CREATED_BY       0\n",
       "CREATED_AT       0\n",
       "dtype: int64"
      ]
     },
     "execution_count": 42,
     "metadata": {},
     "output_type": "execute_result"
    }
   ],
   "source": [
    "df_trans.isnull().sum()"
   ]
  },
  {
   "cell_type": "code",
   "execution_count": 44,
   "id": "2d61d215",
   "metadata": {},
   "outputs": [
    {
     "name": "stdout",
     "output_type": "stream",
     "text": [
      "------------------------------------------------\n",
      "ATMID  ->  420\n",
      "------------------------------------------------\n",
      "DATE  ->  783\n",
      "------------------------------------------------\n",
      "DISPENSE  ->  5497\n",
      "------------------------------------------------\n",
      "DT  ->  1022\n",
      "------------------------------------------------\n",
      "COUNTTOTALTXN  ->  381\n"
     ]
    }
   ],
   "source": [
    "cols = ['ATMID','DATE','DISPENSE','DT','COUNTTOTALTXN']\n",
    "for col in cols:\n",
    "    print (\"------------------------------------------------\")\n",
    "    print (col, \" -> \",df_trans[col].nunique())"
   ]
  },
  {
   "cell_type": "code",
   "execution_count": null,
   "id": "e14e57cc",
   "metadata": {},
   "outputs": [],
   "source": []
  }
 ],
 "metadata": {
  "kernelspec": {
   "display_name": "Python 3",
   "language": "python",
   "name": "python3"
  },
  "language_info": {
   "codemirror_mode": {
    "name": "ipython",
    "version": 3
   },
   "file_extension": ".py",
   "mimetype": "text/x-python",
   "name": "python",
   "nbconvert_exporter": "python",
   "pygments_lexer": "ipython3",
   "version": "3.8.18"
  }
 },
 "nbformat": 4,
 "nbformat_minor": 5
}
