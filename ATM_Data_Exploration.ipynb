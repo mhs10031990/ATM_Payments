{
 "cells": [
  {
   "cell_type": "markdown",
   "id": "0581108d",
   "metadata": {},
   "source": [
    "# Use ATM_Payments_Distribution Notebook Template"
   ]
  },
  {
   "cell_type": "code",
   "execution_count": 10,
   "id": "519a90fb",
   "metadata": {},
   "outputs": [],
   "source": [
    "from fosforio import snowflake"
   ]
  },
  {
   "cell_type": "code",
   "execution_count": 18,
   "id": "7a51cc2d",
   "metadata": {},
   "outputs": [
    {
     "name": "stdout",
     "output_type": "stream",
     "text": [
      "User name picked from OS env: manishh.singh@fosfor.com\n",
      "Fetching connections created by manishh.singh@fosfor.com user\n",
      "Connection names fetched ['FDC_SNOWFLAKE', 'FDC_SNOWFLAKE', 'FDC_SNOWFLAKE', 'FDC_Insurance_Snowflake', 'FDC_Banking_FS_Snowflake', 'FDC_Banking_FS_Snowflake'], created by manishh.singh@fosfor.com\n",
      "Exception occurred in getting snowflake connection: 'connectionSources'\n"
     ]
    }
   ],
   "source": [
    "# To get snowflake connection object with a default snowflake connection created by the user, if available.\n",
    "snowflake.get_connection()\n",
    "\n",
    "# To get snowflake connection object with a specific connection name\n",
    "#snowflake.get_connection(connection_name=\"FDC_Banking_FS_Snowflake\")"
   ]
  },
  {
   "cell_type": "markdown",
   "id": "abe25ace",
   "metadata": {},
   "source": [
    "# ATM Meta data"
   ]
  },
  {
   "cell_type": "code",
   "execution_count": 12,
   "id": "5afa4b2e",
   "metadata": {},
   "outputs": [
    {
     "name": "stdout",
     "output_type": "stream",
     "text": [
      "Connection details fetched: {'errorCode': 'CNM-404', 'message': 'Asset not found', 'detailMessage': 'Datasource not found by name ATM_METADATA', 'timeStamp': '2024-05-28 10:27:37.608', 'api': '/v1/external/getConnConfig/{dataSourceName}/{userId}/{projectId}'}\n",
      "Ex: 'params'\n",
      "Exception occurred in reading data_frame from snowflake connection: Exception occurred in creating snowflake connection: Datasource not found by name ATM_METADATA\n"
     ]
    }
   ],
   "source": [
    "# To read a specific dataset published from a snowflake connection\n",
    "df_atm = snowflake.get_dataframe(\"ATM_METADATA\")"
   ]
  },
  {
   "cell_type": "code",
   "execution_count": 13,
   "id": "6afc3c99",
   "metadata": {},
   "outputs": [
    {
     "ename": "AttributeError",
     "evalue": "'NoneType' object has no attribute 'shape'",
     "output_type": "error",
     "traceback": [
      "\u001b[0;31m---------------------------------------------------------------------------\u001b[0m",
      "\u001b[0;31mAttributeError\u001b[0m                            Traceback (most recent call last)",
      "Cell \u001b[0;32mIn[13], line 1\u001b[0m\n\u001b[0;32m----> 1\u001b[0m \u001b[43mdf_atm\u001b[49m\u001b[38;5;241;43m.\u001b[39;49m\u001b[43mshape\u001b[49m\n",
      "\u001b[0;31mAttributeError\u001b[0m: 'NoneType' object has no attribute 'shape'"
     ]
    }
   ],
   "source": [
    "df_atm.shape"
   ]
  },
  {
   "cell_type": "code",
   "execution_count": 7,
   "id": "cbec60c0",
   "metadata": {
    "scrolled": true
   },
   "outputs": [
    {
     "ename": "AttributeError",
     "evalue": "'NoneType' object has no attribute 'info'",
     "output_type": "error",
     "traceback": [
      "\u001b[0;31m---------------------------------------------------------------------------\u001b[0m",
      "\u001b[0;31mAttributeError\u001b[0m                            Traceback (most recent call last)",
      "Cell \u001b[0;32mIn[7], line 1\u001b[0m\n\u001b[0;32m----> 1\u001b[0m \u001b[43mdf_atm\u001b[49m\u001b[38;5;241;43m.\u001b[39;49m\u001b[43minfo\u001b[49m()\n",
      "\u001b[0;31mAttributeError\u001b[0m: 'NoneType' object has no attribute 'info'"
     ]
    }
   ],
   "source": [
    "df_atm.info()"
   ]
  },
  {
   "cell_type": "code",
   "execution_count": null,
   "id": "9cb8a275",
   "metadata": {
    "scrolled": true
   },
   "outputs": [],
   "source": [
    "df_atm.describe()"
   ]
  },
  {
   "cell_type": "code",
   "execution_count": null,
   "id": "20f90b7f",
   "metadata": {
    "scrolled": true
   },
   "outputs": [],
   "source": [
    "df_atm.head()"
   ]
  },
  {
   "cell_type": "code",
   "execution_count": null,
   "id": "3c525575",
   "metadata": {
    "scrolled": false
   },
   "outputs": [],
   "source": [
    "df_atm.isnull().sum()"
   ]
  },
  {
   "cell_type": "code",
   "execution_count": null,
   "id": "a9e48e5e",
   "metadata": {
    "scrolled": true
   },
   "outputs": [],
   "source": [
    "cols = ['ATM_ID','STATE']\n",
    "for col in cols:\n",
    "    print (\"------------------------------------------------\")\n",
    "    print (col, \" -> \",df_atm[col].nunique())"
   ]
  },
  {
   "cell_type": "markdown",
   "id": "b503ddd3",
   "metadata": {},
   "source": [
    "# BANKS Meta data"
   ]
  },
  {
   "cell_type": "code",
   "execution_count": null,
   "id": "aab257f9",
   "metadata": {},
   "outputs": [],
   "source": [
    "# To read a specific dataset published from a snowflake connection\n",
    "df_bank = snowflake.get_dataframe(\"ATM_BANK_METADATA\")"
   ]
  },
  {
   "cell_type": "code",
   "execution_count": null,
   "id": "a4c2cd69",
   "metadata": {},
   "outputs": [],
   "source": [
    "df_bank.shape"
   ]
  },
  {
   "cell_type": "code",
   "execution_count": null,
   "id": "e24cf7ed",
   "metadata": {},
   "outputs": [],
   "source": [
    "df_bank.info()"
   ]
  },
  {
   "cell_type": "code",
   "execution_count": null,
   "id": "eabad596",
   "metadata": {},
   "outputs": [],
   "source": [
    "df_bank.describe()"
   ]
  },
  {
   "cell_type": "code",
   "execution_count": null,
   "id": "5ead74e7",
   "metadata": {
    "scrolled": true
   },
   "outputs": [],
   "source": [
    "df_bank.head()"
   ]
  },
  {
   "cell_type": "code",
   "execution_count": null,
   "id": "06ba1433",
   "metadata": {},
   "outputs": [],
   "source": [
    "df_bank.isnull().sum()"
   ]
  },
  {
   "cell_type": "code",
   "execution_count": null,
   "id": "f90b4950",
   "metadata": {},
   "outputs": [],
   "source": [
    "cols = ['BANK_NAME']\n",
    "for col in cols:\n",
    "    print (\"------------------------------------------------\")\n",
    "    print (col, \" -> \",df_bank[col].nunique())"
   ]
  },
  {
   "cell_type": "code",
   "execution_count": null,
   "id": "9ae497b5",
   "metadata": {},
   "outputs": [],
   "source": [
    "# DATE Metadata"
   ]
  },
  {
   "cell_type": "code",
   "execution_count": null,
   "id": "e4f4cf75",
   "metadata": {},
   "outputs": [],
   "source": [
    "# To read a specific dataset published from a snowflake connection\n",
    "df_date = snowflake.get_dataframe(\"ATM_DATE_METADATA\")"
   ]
  },
  {
   "cell_type": "code",
   "execution_count": null,
   "id": "bda2108c",
   "metadata": {},
   "outputs": [],
   "source": [
    "df_date.shape"
   ]
  },
  {
   "cell_type": "code",
   "execution_count": null,
   "id": "04911cdc",
   "metadata": {},
   "outputs": [],
   "source": [
    "df_date.info()"
   ]
  },
  {
   "cell_type": "code",
   "execution_count": null,
   "id": "d2eb4c3a",
   "metadata": {},
   "outputs": [],
   "source": [
    "df_date.describe()"
   ]
  },
  {
   "cell_type": "code",
   "execution_count": null,
   "id": "936e90d0",
   "metadata": {},
   "outputs": [],
   "source": [
    "df_date.head()"
   ]
  },
  {
   "cell_type": "code",
   "execution_count": null,
   "id": "17c0ec00",
   "metadata": {
    "scrolled": true
   },
   "outputs": [],
   "source": [
    "df_date.isnull().sum()"
   ]
  },
  {
   "cell_type": "code",
   "execution_count": null,
   "id": "80ef0496",
   "metadata": {
    "scrolled": true
   },
   "outputs": [],
   "source": [
    "cols = ['DATE','WEEKDAY','HOLIDAY']\n",
    "for col in cols:\n",
    "    print (\"------------------------------------------------\")\n",
    "    print (col, \" -> \",df_date[col].nunique())"
   ]
  },
  {
   "cell_type": "markdown",
   "id": "7d957388",
   "metadata": {},
   "source": [
    "# TRANSACTION METADATA"
   ]
  },
  {
   "cell_type": "code",
   "execution_count": null,
   "id": "b3cc9944",
   "metadata": {},
   "outputs": [],
   "source": [
    "# To read a specific dataset published from a snowflake connection\n",
    "df_trans = snowflake.get_dataframe(\"ATM_TRANSACTION_METADATA\")"
   ]
  },
  {
   "cell_type": "code",
   "execution_count": null,
   "id": "9b03cde0",
   "metadata": {},
   "outputs": [],
   "source": [
    "df_trans.shape"
   ]
  },
  {
   "cell_type": "code",
   "execution_count": null,
   "id": "bf43b6ae",
   "metadata": {},
   "outputs": [],
   "source": [
    "df_trans.info()"
   ]
  },
  {
   "cell_type": "code",
   "execution_count": null,
   "id": "096b8dbf",
   "metadata": {},
   "outputs": [],
   "source": [
    "df_trans.describe()"
   ]
  },
  {
   "cell_type": "code",
   "execution_count": null,
   "id": "231f0d30",
   "metadata": {},
   "outputs": [],
   "source": [
    "df_trans.head()"
   ]
  },
  {
   "cell_type": "code",
   "execution_count": null,
   "id": "8dd5694f",
   "metadata": {},
   "outputs": [],
   "source": [
    "df_trans.isnull().sum()"
   ]
  },
  {
   "cell_type": "code",
   "execution_count": null,
   "id": "2d61d215",
   "metadata": {},
   "outputs": [],
   "source": [
    "cols = ['ATMID','DATE','DISPENSE','DT','COUNTTOTALTXN']\n",
    "for col in cols:\n",
    "    print (\"------------------------------------------------\")\n",
    "    print (col, \" -> \",df_trans[col].nunique())"
   ]
  }
 ],
 "metadata": {
  "kernelspec": {
   "display_name": "Python 3",
   "language": "python",
   "name": "python3"
  },
  "language_info": {
   "codemirror_mode": {
    "name": "ipython",
    "version": 3
   },
   "file_extension": ".py",
   "mimetype": "text/x-python",
   "name": "python",
   "nbconvert_exporter": "python",
   "pygments_lexer": "ipython3",
   "version": "3.8.18"
  }
 },
 "nbformat": 4,
 "nbformat_minor": 5
}
