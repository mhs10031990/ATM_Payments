{
 "cells": [
  {
   "cell_type": "markdown",
   "id": "c6e9f324",
   "metadata": {},
   "source": [
    "# Use ATM_Payments_Distribution Notebook Template"
   ]
  },
  {
   "cell_type": "code",
   "execution_count": 2,
   "id": "e5f545a5",
   "metadata": {
    "scrolled": true
   },
   "outputs": [],
   "source": [
    "from fosforio import snowflake\n",
    "import pandas as pd\n",
    "import datetime as dt"
   ]
  },
  {
   "cell_type": "code",
   "execution_count": 3,
   "id": "02cf9f86",
   "metadata": {},
   "outputs": [
    {
     "name": "stdout",
     "output_type": "stream",
     "text": [
      "pandas==2.0.3\r\n"
     ]
    }
   ],
   "source": [
    "!pip freeze | grep pandas"
   ]
  },
  {
   "cell_type": "code",
   "execution_count": 4,
   "id": "d305964f",
   "metadata": {},
   "outputs": [
    {
     "name": "stderr",
     "output_type": "stream",
     "text": [
      "Matplotlib created a temporary cache directory at /tmp/matplotlib-f2s99nm5 because the default path (/home/mosaic-ai/.cache/matplotlib) is not a writable directory; it is highly recommended to set the MPLCONFIGDIR environment variable to a writable directory, in particular to speed up the import of Matplotlib and to better support multiprocessing.\n"
     ]
    }
   ],
   "source": [
    "import seaborn as sns\n",
    "import subprocess\n",
    "\n",
    "# create_temp_table warning suppresion\n",
    "import warnings; warnings.simplefilter('ignore')"
   ]
  },
  {
   "cell_type": "code",
   "execution_count": 5,
   "id": "6e183a21",
   "metadata": {},
   "outputs": [],
   "source": [
    "from fosforml import *\n",
    "from fosforml.constants import MLModelFlavours\n",
    "import requests"
   ]
  },
  {
   "cell_type": "code",
   "execution_count": 6,
   "id": "c6a862f7",
   "metadata": {},
   "outputs": [],
   "source": [
    "# Import label encoder \n",
    "from sklearn import preprocessing \n",
    "from sklearn.linear_model import LinearRegression, Lasso, Ridge, ElasticNet\n",
    "from sklearn.model_selection import GridSearchCV\n",
    "from sklearn.tree import DecisionTreeRegressor\n",
    "from sklearn.metrics import mean_squared_error, mean_absolute_error, r2_score\n",
    "from sklearn.model_selection import train_test_split\n",
    "from math import sqrt\n",
    "import numpy as np"
   ]
  },
  {
   "cell_type": "code",
   "execution_count": 7,
   "id": "e6c5b943",
   "metadata": {},
   "outputs": [
    {
     "name": "stdout",
     "output_type": "stream",
     "text": [
      "Exception occurred in getting snowflake connection: 'connectionSources'\n"
     ]
    }
   ],
   "source": [
    "# To get snowflake connection object with a default snowflake connection created by the user, if available.\n",
    "#snowflake.get_connection()\n",
    "\n",
    "# To get snowflake connection object with a specific connection name\n",
    "snowflake.get_connection(connection_name=\"FDC_Banking_FS_SNOWFLAKE\")"
   ]
  },
  {
   "cell_type": "code",
   "execution_count": 8,
   "id": "ed2e6957",
   "metadata": {},
   "outputs": [],
   "source": [
    "# To read a specific dataset published from a snowflake connection\n",
    "df_original = snowflake.get_dataframe(\"ATM_TRANSACTION_MASTER_DATA\")\n",
    "df = snowflake.get_dataframe(\"ATM_TRANSACTION_MASTER_DATA\")"
   ]
  },
  {
   "cell_type": "code",
   "execution_count": 9,
   "id": "f6d892c3",
   "metadata": {},
   "outputs": [],
   "source": [
    "to_drop = ['ATM_STATE_DETAILS_STATE','MALE_POPULATION','FEMALE_POPULATION','TOTAL_POPULATION','NO_OF_VETERANS','FOREIGN_BORN','AVG_HOUSEHOLD_SIZE','LANDAREA_SQ_MILE','POPULATION_RATIO','POPULATION_DENSITY','MEDIAN_HOUSE_INCOME']\n",
    "df.drop(to_drop, inplace=True, axis=1)"
   ]
  },
  {
   "cell_type": "code",
   "execution_count": 10,
   "id": "379812bc",
   "metadata": {},
   "outputs": [
    {
     "data": {
      "text/plain": [
       "(312417, 11)"
      ]
     },
     "execution_count": 10,
     "metadata": {},
     "output_type": "execute_result"
    }
   ],
   "source": [
    "df.shape"
   ]
  },
  {
   "cell_type": "code",
   "execution_count": 11,
   "id": "d38c2a39",
   "metadata": {},
   "outputs": [
    {
     "name": "stdout",
     "output_type": "stream",
     "text": [
      "<class 'pandas.core.frame.DataFrame'>\n",
      "RangeIndex: 312417 entries, 0 to 312416\n",
      "Data columns (total 11 columns):\n",
      " #   Column                   Non-Null Count   Dtype  \n",
      "---  ------                   --------------   -----  \n",
      " 0   DATE                     312417 non-null  object \n",
      " 1   WEEKDAY_FLAG             312417 non-null  object \n",
      " 2   HOLIDAY_FLAG             312417 non-null  object \n",
      " 3   BANK_ID                  312417 non-null  int8   \n",
      " 4   STATE                    312417 non-null  object \n",
      " 5   BANK_NAME                312417 non-null  object \n",
      " 6   ATM_ID                   312417 non-null  object \n",
      " 7   DISPENSED_AMOUNT         312417 non-null  float64\n",
      " 8   TOTAL_TRANSACTION_COUNT  312417 non-null  float64\n",
      " 9   DOWNTIME_IN_MINS         312417 non-null  float64\n",
      " 10  ATM_MAX_CAPACITY         312417 non-null  float64\n",
      "dtypes: float64(4), int8(1), object(6)\n",
      "memory usage: 24.1+ MB\n"
     ]
    }
   ],
   "source": [
    "df.info()"
   ]
  },
  {
   "cell_type": "code",
   "execution_count": 12,
   "id": "5fc8fa71",
   "metadata": {},
   "outputs": [
    {
     "data": {
      "text/html": [
       "<div>\n",
       "<style scoped>\n",
       "    .dataframe tbody tr th:only-of-type {\n",
       "        vertical-align: middle;\n",
       "    }\n",
       "\n",
       "    .dataframe tbody tr th {\n",
       "        vertical-align: top;\n",
       "    }\n",
       "\n",
       "    .dataframe thead th {\n",
       "        text-align: right;\n",
       "    }\n",
       "</style>\n",
       "<table border=\"1\" class=\"dataframe\">\n",
       "  <thead>\n",
       "    <tr style=\"text-align: right;\">\n",
       "      <th></th>\n",
       "      <th>DATE</th>\n",
       "      <th>WEEKDAY_FLAG</th>\n",
       "      <th>HOLIDAY_FLAG</th>\n",
       "      <th>BANK_ID</th>\n",
       "      <th>STATE</th>\n",
       "      <th>BANK_NAME</th>\n",
       "      <th>ATM_ID</th>\n",
       "      <th>DISPENSED_AMOUNT</th>\n",
       "      <th>TOTAL_TRANSACTION_COUNT</th>\n",
       "      <th>DOWNTIME_IN_MINS</th>\n",
       "      <th>ATM_MAX_CAPACITY</th>\n",
       "    </tr>\n",
       "  </thead>\n",
       "  <tbody>\n",
       "    <tr>\n",
       "      <th>0</th>\n",
       "      <td>2023-01-29</td>\n",
       "      <td>Y</td>\n",
       "      <td>N</td>\n",
       "      <td>3</td>\n",
       "      <td>Maine</td>\n",
       "      <td>Citibank</td>\n",
       "      <td>TBH000274025</td>\n",
       "      <td>225180.0</td>\n",
       "      <td>90.0</td>\n",
       "      <td>0.0</td>\n",
       "      <td>2860000.0</td>\n",
       "    </tr>\n",
       "    <tr>\n",
       "      <th>1</th>\n",
       "      <td>2023-01-30</td>\n",
       "      <td>Y</td>\n",
       "      <td>N</td>\n",
       "      <td>3</td>\n",
       "      <td>Maine</td>\n",
       "      <td>Citibank</td>\n",
       "      <td>TBH000274025</td>\n",
       "      <td>262440.0</td>\n",
       "      <td>117.0</td>\n",
       "      <td>0.0</td>\n",
       "      <td>2860000.0</td>\n",
       "    </tr>\n",
       "    <tr>\n",
       "      <th>2</th>\n",
       "      <td>2023-01-31</td>\n",
       "      <td>Y</td>\n",
       "      <td>N</td>\n",
       "      <td>3</td>\n",
       "      <td>Maine</td>\n",
       "      <td>Citibank</td>\n",
       "      <td>TBH000274025</td>\n",
       "      <td>561150.0</td>\n",
       "      <td>160.0</td>\n",
       "      <td>0.0</td>\n",
       "      <td>2860000.0</td>\n",
       "    </tr>\n",
       "    <tr>\n",
       "      <th>3</th>\n",
       "      <td>2023-02-01</td>\n",
       "      <td>Y</td>\n",
       "      <td>N</td>\n",
       "      <td>3</td>\n",
       "      <td>Maine</td>\n",
       "      <td>Citibank</td>\n",
       "      <td>TBH000274025</td>\n",
       "      <td>437220.0</td>\n",
       "      <td>129.0</td>\n",
       "      <td>0.0</td>\n",
       "      <td>2860000.0</td>\n",
       "    </tr>\n",
       "    <tr>\n",
       "      <th>4</th>\n",
       "      <td>2023-02-02</td>\n",
       "      <td>Y</td>\n",
       "      <td>N</td>\n",
       "      <td>3</td>\n",
       "      <td>Maine</td>\n",
       "      <td>Citibank</td>\n",
       "      <td>TBH000274025</td>\n",
       "      <td>360900.0</td>\n",
       "      <td>119.0</td>\n",
       "      <td>0.0</td>\n",
       "      <td>2860000.0</td>\n",
       "    </tr>\n",
       "  </tbody>\n",
       "</table>\n",
       "</div>"
      ],
      "text/plain": [
       "         DATE WEEKDAY_FLAG HOLIDAY_FLAG  BANK_ID  STATE BANK_NAME  \\\n",
       "0  2023-01-29            Y            N        3  Maine  Citibank   \n",
       "1  2023-01-30            Y            N        3  Maine  Citibank   \n",
       "2  2023-01-31            Y            N        3  Maine  Citibank   \n",
       "3  2023-02-01            Y            N        3  Maine  Citibank   \n",
       "4  2023-02-02            Y            N        3  Maine  Citibank   \n",
       "\n",
       "         ATM_ID  DISPENSED_AMOUNT  TOTAL_TRANSACTION_COUNT  DOWNTIME_IN_MINS  \\\n",
       "0  TBH000274025          225180.0                     90.0               0.0   \n",
       "1  TBH000274025          262440.0                    117.0               0.0   \n",
       "2  TBH000274025          561150.0                    160.0               0.0   \n",
       "3  TBH000274025          437220.0                    129.0               0.0   \n",
       "4  TBH000274025          360900.0                    119.0               0.0   \n",
       "\n",
       "   ATM_MAX_CAPACITY  \n",
       "0         2860000.0  \n",
       "1         2860000.0  \n",
       "2         2860000.0  \n",
       "3         2860000.0  \n",
       "4         2860000.0  "
      ]
     },
     "execution_count": 12,
     "metadata": {},
     "output_type": "execute_result"
    }
   ],
   "source": [
    "df.head()"
   ]
  },
  {
   "cell_type": "code",
   "execution_count": 13,
   "id": "aaf92191",
   "metadata": {},
   "outputs": [
    {
     "data": {
      "text/plain": [
       "Index(['DATE', 'WEEKDAY_FLAG', 'HOLIDAY_FLAG', 'BANK_ID', 'STATE', 'BANK_NAME',\n",
       "       'ATM_ID', 'DISPENSED_AMOUNT', 'TOTAL_TRANSACTION_COUNT',\n",
       "       'DOWNTIME_IN_MINS', 'ATM_MAX_CAPACITY'],\n",
       "      dtype='object')"
      ]
     },
     "execution_count": 13,
     "metadata": {},
     "output_type": "execute_result"
    }
   ],
   "source": [
    "df.columns"
   ]
  },
  {
   "cell_type": "code",
   "execution_count": 14,
   "id": "0934b554",
   "metadata": {
    "scrolled": false
   },
   "outputs": [
    {
     "data": {
      "text/plain": [
       "DATE                       0\n",
       "WEEKDAY_FLAG               0\n",
       "HOLIDAY_FLAG               0\n",
       "BANK_ID                    0\n",
       "STATE                      0\n",
       "BANK_NAME                  0\n",
       "ATM_ID                     0\n",
       "DISPENSED_AMOUNT           0\n",
       "TOTAL_TRANSACTION_COUNT    0\n",
       "DOWNTIME_IN_MINS           0\n",
       "ATM_MAX_CAPACITY           0\n",
       "dtype: int64"
      ]
     },
     "execution_count": 14,
     "metadata": {},
     "output_type": "execute_result"
    }
   ],
   "source": [
    "df.isnull().sum()"
   ]
  },
  {
   "cell_type": "code",
   "execution_count": 15,
   "id": "4ec2aad5",
   "metadata": {},
   "outputs": [
    {
     "name": "stdout",
     "output_type": "stream",
     "text": [
      "<class 'pandas.core.frame.DataFrame'>\n",
      "RangeIndex: 312417 entries, 0 to 312416\n",
      "Data columns (total 11 columns):\n",
      " #   Column                   Non-Null Count   Dtype  \n",
      "---  ------                   --------------   -----  \n",
      " 0   DATE                     312417 non-null  object \n",
      " 1   WEEKDAY_FLAG             312417 non-null  object \n",
      " 2   HOLIDAY_FLAG             312417 non-null  object \n",
      " 3   BANK_ID                  312417 non-null  int8   \n",
      " 4   STATE                    312417 non-null  object \n",
      " 5   BANK_NAME                312417 non-null  object \n",
      " 6   ATM_ID                   312417 non-null  object \n",
      " 7   DISPENSED_AMOUNT         312417 non-null  float64\n",
      " 8   TOTAL_TRANSACTION_COUNT  312417 non-null  float64\n",
      " 9   DOWNTIME_IN_MINS         312417 non-null  float64\n",
      " 10  ATM_MAX_CAPACITY         312417 non-null  float64\n",
      "dtypes: float64(4), int8(1), object(6)\n",
      "memory usage: 24.1+ MB\n"
     ]
    }
   ],
   "source": [
    "df.info()"
   ]
  },
  {
   "cell_type": "code",
   "execution_count": 16,
   "id": "4a79e15c",
   "metadata": {},
   "outputs": [],
   "source": [
    "df['DATE'] = pd.to_datetime(df['DATE'])\n",
    "df['HOUR'] = df['DATE'].dt.hour\n",
    "df['DAYOFWEEK'] = df['DATE'].dt.dayofweek\n",
    "df['QUARTER'] = df['DATE'].dt.quarter\n",
    "df['MONTH'] = df['DATE'].dt.month\n",
    "df['YEAR'] = df['DATE'].dt.year\n",
    "df['DAYOFYEAR'] = df['DATE'].dt.dayofyear\n",
    "df['DAYOFMONTH'] = df['DATE'].dt.day\n",
    "df['DATE'] = pd.to_datetime(df['DATE']).dt.strftime(\"%Y-%m-%d %H:%M:%S.%f\")"
   ]
  },
  {
   "cell_type": "code",
   "execution_count": 17,
   "id": "f588d4bf",
   "metadata": {},
   "outputs": [],
   "source": [
    "df['WEEKDAY_FLAG'] = df['WEEKDAY_FLAG'].map({'Y': 1, 'N': 0})\n",
    "df['HOLIDAY_FLAG'] = df['HOLIDAY_FLAG'].map({'Y': 1, 'N': 0})"
   ]
  },
  {
   "cell_type": "code",
   "execution_count": 18,
   "id": "b45c8e98",
   "metadata": {},
   "outputs": [
    {
     "data": {
      "text/html": [
       "<div>\n",
       "<style scoped>\n",
       "    .dataframe tbody tr th:only-of-type {\n",
       "        vertical-align: middle;\n",
       "    }\n",
       "\n",
       "    .dataframe tbody tr th {\n",
       "        vertical-align: top;\n",
       "    }\n",
       "\n",
       "    .dataframe thead th {\n",
       "        text-align: right;\n",
       "    }\n",
       "</style>\n",
       "<table border=\"1\" class=\"dataframe\">\n",
       "  <thead>\n",
       "    <tr style=\"text-align: right;\">\n",
       "      <th></th>\n",
       "      <th>DATE</th>\n",
       "      <th>WEEKDAY_FLAG</th>\n",
       "      <th>HOLIDAY_FLAG</th>\n",
       "      <th>BANK_ID</th>\n",
       "      <th>STATE</th>\n",
       "      <th>BANK_NAME</th>\n",
       "      <th>ATM_ID</th>\n",
       "      <th>DISPENSED_AMOUNT</th>\n",
       "      <th>TOTAL_TRANSACTION_COUNT</th>\n",
       "      <th>DOWNTIME_IN_MINS</th>\n",
       "      <th>ATM_MAX_CAPACITY</th>\n",
       "      <th>HOUR</th>\n",
       "      <th>DAYOFWEEK</th>\n",
       "      <th>QUARTER</th>\n",
       "      <th>MONTH</th>\n",
       "      <th>YEAR</th>\n",
       "      <th>DAYOFYEAR</th>\n",
       "      <th>DAYOFMONTH</th>\n",
       "    </tr>\n",
       "  </thead>\n",
       "  <tbody>\n",
       "    <tr>\n",
       "      <th>0</th>\n",
       "      <td>2023-01-29 00:00:00.000000</td>\n",
       "      <td>1</td>\n",
       "      <td>0</td>\n",
       "      <td>3</td>\n",
       "      <td>Maine</td>\n",
       "      <td>Citibank</td>\n",
       "      <td>TBH000274025</td>\n",
       "      <td>225180.0</td>\n",
       "      <td>90.0</td>\n",
       "      <td>0.0</td>\n",
       "      <td>2860000.0</td>\n",
       "      <td>0</td>\n",
       "      <td>6</td>\n",
       "      <td>1</td>\n",
       "      <td>1</td>\n",
       "      <td>2023</td>\n",
       "      <td>29</td>\n",
       "      <td>29</td>\n",
       "    </tr>\n",
       "    <tr>\n",
       "      <th>1</th>\n",
       "      <td>2023-01-30 00:00:00.000000</td>\n",
       "      <td>1</td>\n",
       "      <td>0</td>\n",
       "      <td>3</td>\n",
       "      <td>Maine</td>\n",
       "      <td>Citibank</td>\n",
       "      <td>TBH000274025</td>\n",
       "      <td>262440.0</td>\n",
       "      <td>117.0</td>\n",
       "      <td>0.0</td>\n",
       "      <td>2860000.0</td>\n",
       "      <td>0</td>\n",
       "      <td>0</td>\n",
       "      <td>1</td>\n",
       "      <td>1</td>\n",
       "      <td>2023</td>\n",
       "      <td>30</td>\n",
       "      <td>30</td>\n",
       "    </tr>\n",
       "    <tr>\n",
       "      <th>2</th>\n",
       "      <td>2023-01-31 00:00:00.000000</td>\n",
       "      <td>1</td>\n",
       "      <td>0</td>\n",
       "      <td>3</td>\n",
       "      <td>Maine</td>\n",
       "      <td>Citibank</td>\n",
       "      <td>TBH000274025</td>\n",
       "      <td>561150.0</td>\n",
       "      <td>160.0</td>\n",
       "      <td>0.0</td>\n",
       "      <td>2860000.0</td>\n",
       "      <td>0</td>\n",
       "      <td>1</td>\n",
       "      <td>1</td>\n",
       "      <td>1</td>\n",
       "      <td>2023</td>\n",
       "      <td>31</td>\n",
       "      <td>31</td>\n",
       "    </tr>\n",
       "    <tr>\n",
       "      <th>3</th>\n",
       "      <td>2023-02-01 00:00:00.000000</td>\n",
       "      <td>1</td>\n",
       "      <td>0</td>\n",
       "      <td>3</td>\n",
       "      <td>Maine</td>\n",
       "      <td>Citibank</td>\n",
       "      <td>TBH000274025</td>\n",
       "      <td>437220.0</td>\n",
       "      <td>129.0</td>\n",
       "      <td>0.0</td>\n",
       "      <td>2860000.0</td>\n",
       "      <td>0</td>\n",
       "      <td>2</td>\n",
       "      <td>1</td>\n",
       "      <td>2</td>\n",
       "      <td>2023</td>\n",
       "      <td>32</td>\n",
       "      <td>1</td>\n",
       "    </tr>\n",
       "    <tr>\n",
       "      <th>4</th>\n",
       "      <td>2023-02-02 00:00:00.000000</td>\n",
       "      <td>1</td>\n",
       "      <td>0</td>\n",
       "      <td>3</td>\n",
       "      <td>Maine</td>\n",
       "      <td>Citibank</td>\n",
       "      <td>TBH000274025</td>\n",
       "      <td>360900.0</td>\n",
       "      <td>119.0</td>\n",
       "      <td>0.0</td>\n",
       "      <td>2860000.0</td>\n",
       "      <td>0</td>\n",
       "      <td>3</td>\n",
       "      <td>1</td>\n",
       "      <td>2</td>\n",
       "      <td>2023</td>\n",
       "      <td>33</td>\n",
       "      <td>2</td>\n",
       "    </tr>\n",
       "  </tbody>\n",
       "</table>\n",
       "</div>"
      ],
      "text/plain": [
       "                         DATE  WEEKDAY_FLAG  HOLIDAY_FLAG  BANK_ID  STATE  \\\n",
       "0  2023-01-29 00:00:00.000000             1             0        3  Maine   \n",
       "1  2023-01-30 00:00:00.000000             1             0        3  Maine   \n",
       "2  2023-01-31 00:00:00.000000             1             0        3  Maine   \n",
       "3  2023-02-01 00:00:00.000000             1             0        3  Maine   \n",
       "4  2023-02-02 00:00:00.000000             1             0        3  Maine   \n",
       "\n",
       "  BANK_NAME        ATM_ID  DISPENSED_AMOUNT  TOTAL_TRANSACTION_COUNT  \\\n",
       "0  Citibank  TBH000274025          225180.0                     90.0   \n",
       "1  Citibank  TBH000274025          262440.0                    117.0   \n",
       "2  Citibank  TBH000274025          561150.0                    160.0   \n",
       "3  Citibank  TBH000274025          437220.0                    129.0   \n",
       "4  Citibank  TBH000274025          360900.0                    119.0   \n",
       "\n",
       "   DOWNTIME_IN_MINS  ATM_MAX_CAPACITY  HOUR  DAYOFWEEK  QUARTER  MONTH  YEAR  \\\n",
       "0               0.0         2860000.0     0          6        1      1  2023   \n",
       "1               0.0         2860000.0     0          0        1      1  2023   \n",
       "2               0.0         2860000.0     0          1        1      1  2023   \n",
       "3               0.0         2860000.0     0          2        1      2  2023   \n",
       "4               0.0         2860000.0     0          3        1      2  2023   \n",
       "\n",
       "   DAYOFYEAR  DAYOFMONTH  \n",
       "0         29          29  \n",
       "1         30          30  \n",
       "2         31          31  \n",
       "3         32           1  \n",
       "4         33           2  "
      ]
     },
     "execution_count": 18,
     "metadata": {},
     "output_type": "execute_result"
    }
   ],
   "source": [
    "df.head()"
   ]
  },
  {
   "cell_type": "code",
   "execution_count": 19,
   "id": "af29f148",
   "metadata": {},
   "outputs": [
    {
     "name": "stdout",
     "output_type": "stream",
     "text": [
      "<class 'pandas.core.frame.DataFrame'>\n",
      "RangeIndex: 312417 entries, 0 to 312416\n",
      "Data columns (total 18 columns):\n",
      " #   Column                   Non-Null Count   Dtype  \n",
      "---  ------                   --------------   -----  \n",
      " 0   DATE                     312417 non-null  object \n",
      " 1   WEEKDAY_FLAG             312417 non-null  int64  \n",
      " 2   HOLIDAY_FLAG             312417 non-null  int64  \n",
      " 3   BANK_ID                  312417 non-null  int8   \n",
      " 4   STATE                    312417 non-null  object \n",
      " 5   BANK_NAME                312417 non-null  object \n",
      " 6   ATM_ID                   312417 non-null  object \n",
      " 7   DISPENSED_AMOUNT         312417 non-null  float64\n",
      " 8   TOTAL_TRANSACTION_COUNT  312417 non-null  float64\n",
      " 9   DOWNTIME_IN_MINS         312417 non-null  float64\n",
      " 10  ATM_MAX_CAPACITY         312417 non-null  float64\n",
      " 11  HOUR                     312417 non-null  int32  \n",
      " 12  DAYOFWEEK                312417 non-null  int32  \n",
      " 13  QUARTER                  312417 non-null  int32  \n",
      " 14  MONTH                    312417 non-null  int32  \n",
      " 15  YEAR                     312417 non-null  int32  \n",
      " 16  DAYOFYEAR                312417 non-null  int32  \n",
      " 17  DAYOFMONTH               312417 non-null  int32  \n",
      "dtypes: float64(4), int32(7), int64(2), int8(1), object(4)\n",
      "memory usage: 32.5+ MB\n"
     ]
    }
   ],
   "source": [
    "df.info()"
   ]
  },
  {
   "cell_type": "code",
   "execution_count": 20,
   "id": "b2f64a54",
   "metadata": {},
   "outputs": [],
   "source": [
    "# how to understand word labels. \n",
    "label_encoder = preprocessing.LabelEncoder() \n",
    "  \n",
    "# Encode labels in column 'species'. \n",
    "df['STATE']= label_encoder.fit_transform(df['STATE'])"
   ]
  },
  {
   "cell_type": "code",
   "execution_count": 21,
   "id": "bdc55fa5",
   "metadata": {},
   "outputs": [],
   "source": [
    "# how to understand word labels. \n",
    "atm_encoder = preprocessing.LabelEncoder() \n",
    "  \n",
    "# Encode labels in column 'species'. \n",
    "df['ATM_ID']= atm_encoder.fit_transform(df['ATM_ID'])"
   ]
  },
  {
   "cell_type": "code",
   "execution_count": 22,
   "id": "65be5819",
   "metadata": {},
   "outputs": [],
   "source": [
    "df.drop(['DATE','BANK_NAME','TOTAL_TRANSACTION_COUNT','DOWNTIME_IN_MINS','ATM_MAX_CAPACITY'], axis=1,inplace=True)"
   ]
  },
  {
   "cell_type": "code",
   "execution_count": 23,
   "id": "c60a3cd9",
   "metadata": {
    "scrolled": true
   },
   "outputs": [
    {
     "data": {
      "text/plain": [
       "Index(['WEEKDAY_FLAG', 'HOLIDAY_FLAG', 'BANK_ID', 'STATE', 'ATM_ID',\n",
       "       'DISPENSED_AMOUNT', 'HOUR', 'DAYOFWEEK', 'QUARTER', 'MONTH', 'YEAR',\n",
       "       'DAYOFYEAR', 'DAYOFMONTH'],\n",
       "      dtype='object')"
      ]
     },
     "execution_count": 23,
     "metadata": {},
     "output_type": "execute_result"
    }
   ],
   "source": [
    "df.columns"
   ]
  },
  {
   "cell_type": "code",
   "execution_count": 24,
   "id": "3d4c4fd3",
   "metadata": {},
   "outputs": [],
   "source": [
    "features = ['WEEKDAY_FLAG', 'HOLIDAY_FLAG', 'BANK_ID', 'STATE', 'ATM_ID',\n",
    "    'HOUR', 'DAYOFWEEK', 'QUARTER', 'MONTH', 'YEAR',\n",
    "       'DAYOFYEAR', 'DAYOFMONTH']"
   ]
  },
  {
   "cell_type": "code",
   "execution_count": 25,
   "id": "9eb38aef",
   "metadata": {},
   "outputs": [
    {
     "name": "stdout",
     "output_type": "stream",
     "text": [
      "(312417, 13)\n",
      "(257564, 13)\n"
     ]
    }
   ],
   "source": [
    "print (df.shape)\n",
    "df = df[df['DISPENSED_AMOUNT'] > 0]\n",
    "print (df.shape)"
   ]
  },
  {
   "cell_type": "code",
   "execution_count": 26,
   "id": "5282eef1",
   "metadata": {},
   "outputs": [],
   "source": [
    "#To be used for Experimentation\n",
    "df.to_csv('/data/Output/transaction_processed.csv',index=False)"
   ]
  },
  {
   "cell_type": "code",
   "execution_count": 27,
   "id": "d3667290",
   "metadata": {},
   "outputs": [],
   "source": [
    "X = df[features]\n",
    "y = df['DISPENSED_AMOUNT']"
   ]
  },
  {
   "cell_type": "code",
   "execution_count": 28,
   "id": "af1229a2",
   "metadata": {},
   "outputs": [
    {
     "data": {
      "text/html": [
       "<div>\n",
       "<style scoped>\n",
       "    .dataframe tbody tr th:only-of-type {\n",
       "        vertical-align: middle;\n",
       "    }\n",
       "\n",
       "    .dataframe tbody tr th {\n",
       "        vertical-align: top;\n",
       "    }\n",
       "\n",
       "    .dataframe thead th {\n",
       "        text-align: right;\n",
       "    }\n",
       "</style>\n",
       "<table border=\"1\" class=\"dataframe\">\n",
       "  <thead>\n",
       "    <tr style=\"text-align: right;\">\n",
       "      <th></th>\n",
       "      <th>WEEKDAY_FLAG</th>\n",
       "      <th>HOLIDAY_FLAG</th>\n",
       "      <th>BANK_ID</th>\n",
       "      <th>STATE</th>\n",
       "      <th>ATM_ID</th>\n",
       "      <th>HOUR</th>\n",
       "      <th>DAYOFWEEK</th>\n",
       "      <th>QUARTER</th>\n",
       "      <th>MONTH</th>\n",
       "      <th>YEAR</th>\n",
       "      <th>DAYOFYEAR</th>\n",
       "      <th>DAYOFMONTH</th>\n",
       "    </tr>\n",
       "  </thead>\n",
       "  <tbody>\n",
       "    <tr>\n",
       "      <th>0</th>\n",
       "      <td>1</td>\n",
       "      <td>0</td>\n",
       "      <td>3</td>\n",
       "      <td>18</td>\n",
       "      <td>299</td>\n",
       "      <td>0</td>\n",
       "      <td>6</td>\n",
       "      <td>1</td>\n",
       "      <td>1</td>\n",
       "      <td>2023</td>\n",
       "      <td>29</td>\n",
       "      <td>29</td>\n",
       "    </tr>\n",
       "    <tr>\n",
       "      <th>1</th>\n",
       "      <td>1</td>\n",
       "      <td>0</td>\n",
       "      <td>3</td>\n",
       "      <td>18</td>\n",
       "      <td>299</td>\n",
       "      <td>0</td>\n",
       "      <td>0</td>\n",
       "      <td>1</td>\n",
       "      <td>1</td>\n",
       "      <td>2023</td>\n",
       "      <td>30</td>\n",
       "      <td>30</td>\n",
       "    </tr>\n",
       "    <tr>\n",
       "      <th>2</th>\n",
       "      <td>1</td>\n",
       "      <td>0</td>\n",
       "      <td>3</td>\n",
       "      <td>18</td>\n",
       "      <td>299</td>\n",
       "      <td>0</td>\n",
       "      <td>1</td>\n",
       "      <td>1</td>\n",
       "      <td>1</td>\n",
       "      <td>2023</td>\n",
       "      <td>31</td>\n",
       "      <td>31</td>\n",
       "    </tr>\n",
       "    <tr>\n",
       "      <th>3</th>\n",
       "      <td>1</td>\n",
       "      <td>0</td>\n",
       "      <td>3</td>\n",
       "      <td>18</td>\n",
       "      <td>299</td>\n",
       "      <td>0</td>\n",
       "      <td>2</td>\n",
       "      <td>1</td>\n",
       "      <td>2</td>\n",
       "      <td>2023</td>\n",
       "      <td>32</td>\n",
       "      <td>1</td>\n",
       "    </tr>\n",
       "    <tr>\n",
       "      <th>4</th>\n",
       "      <td>1</td>\n",
       "      <td>0</td>\n",
       "      <td>3</td>\n",
       "      <td>18</td>\n",
       "      <td>299</td>\n",
       "      <td>0</td>\n",
       "      <td>3</td>\n",
       "      <td>1</td>\n",
       "      <td>2</td>\n",
       "      <td>2023</td>\n",
       "      <td>33</td>\n",
       "      <td>2</td>\n",
       "    </tr>\n",
       "  </tbody>\n",
       "</table>\n",
       "</div>"
      ],
      "text/plain": [
       "   WEEKDAY_FLAG  HOLIDAY_FLAG  BANK_ID  STATE  ATM_ID  HOUR  DAYOFWEEK  \\\n",
       "0             1             0        3     18     299     0          6   \n",
       "1             1             0        3     18     299     0          0   \n",
       "2             1             0        3     18     299     0          1   \n",
       "3             1             0        3     18     299     0          2   \n",
       "4             1             0        3     18     299     0          3   \n",
       "\n",
       "   QUARTER  MONTH  YEAR  DAYOFYEAR  DAYOFMONTH  \n",
       "0        1      1  2023         29          29  \n",
       "1        1      1  2023         30          30  \n",
       "2        1      1  2023         31          31  \n",
       "3        1      2  2023         32           1  \n",
       "4        1      2  2023         33           2  "
      ]
     },
     "execution_count": 28,
     "metadata": {},
     "output_type": "execute_result"
    }
   ],
   "source": [
    "X.head()"
   ]
  },
  {
   "cell_type": "code",
   "execution_count": 29,
   "id": "7b95143a",
   "metadata": {},
   "outputs": [
    {
     "data": {
      "text/plain": [
       "0         225180.0\n",
       "1         262440.0\n",
       "2         561150.0\n",
       "3         437220.0\n",
       "4         360900.0\n",
       "            ...   \n",
       "312412    195300.0\n",
       "312413    245160.0\n",
       "312414    222480.0\n",
       "312415    198360.0\n",
       "312416    314190.0\n",
       "Name: DISPENSED_AMOUNT, Length: 257564, dtype: float64"
      ]
     },
     "execution_count": 29,
     "metadata": {},
     "output_type": "execute_result"
    }
   ],
   "source": [
    "y"
   ]
  },
  {
   "cell_type": "code",
   "execution_count": 30,
   "id": "bdb41821",
   "metadata": {},
   "outputs": [],
   "source": [
    "# Split the data into training and test sets. (0.75, 0.25) split.\n",
    "X_train, X_test, y_train, y_test = train_test_split(X, y, train_size=0.75, test_size=0.25)"
   ]
  },
  {
   "cell_type": "code",
   "execution_count": 31,
   "id": "8e7b13ac",
   "metadata": {},
   "outputs": [
    {
     "name": "stdout",
     "output_type": "stream",
     "text": [
      "Total # of sample in whole dataset: 257564\n",
      "**************************************************\n",
      "Total # of sample in train dataset: 193173\n",
      "Shape of X_train: (193173, 12)\n",
      "**************************************************\n",
      "Total # of sample in test dataset: 64391\n",
      "Shape of X_test: (64391, 12)\n"
     ]
    }
   ],
   "source": [
    "print(f'Total # of sample in whole dataset: {len(X)}')\n",
    "print(\"*****\"*10)\n",
    "print(f'Total # of sample in train dataset: {len(X_train)}')\n",
    "print(f'Shape of X_train: {X_train.shape}')\n",
    "print(\"*****\"*10)\n",
    "print(f'Total # of sample in test dataset: {len(X_test)}')\n",
    "print(f'Shape of X_test: {X_test.shape}')"
   ]
  },
  {
   "cell_type": "markdown",
   "id": "aa2cff77",
   "metadata": {},
   "source": [
    "# Decision Tree"
   ]
  },
  {
   "cell_type": "code",
   "execution_count": 32,
   "id": "3c618929",
   "metadata": {},
   "outputs": [],
   "source": [
    "tree = DecisionTreeRegressor(max_depth=4,max_features=4)"
   ]
  },
  {
   "cell_type": "code",
   "execution_count": 33,
   "id": "78f800ab",
   "metadata": {},
   "outputs": [
    {
     "data": {
      "text/html": [
       "<style>#sk-container-id-1 {color: black;background-color: white;}#sk-container-id-1 pre{padding: 0;}#sk-container-id-1 div.sk-toggleable {background-color: white;}#sk-container-id-1 label.sk-toggleable__label {cursor: pointer;display: block;width: 100%;margin-bottom: 0;padding: 0.3em;box-sizing: border-box;text-align: center;}#sk-container-id-1 label.sk-toggleable__label-arrow:before {content: \"▸\";float: left;margin-right: 0.25em;color: #696969;}#sk-container-id-1 label.sk-toggleable__label-arrow:hover:before {color: black;}#sk-container-id-1 div.sk-estimator:hover label.sk-toggleable__label-arrow:before {color: black;}#sk-container-id-1 div.sk-toggleable__content {max-height: 0;max-width: 0;overflow: hidden;text-align: left;background-color: #f0f8ff;}#sk-container-id-1 div.sk-toggleable__content pre {margin: 0.2em;color: black;border-radius: 0.25em;background-color: #f0f8ff;}#sk-container-id-1 input.sk-toggleable__control:checked~div.sk-toggleable__content {max-height: 200px;max-width: 100%;overflow: auto;}#sk-container-id-1 input.sk-toggleable__control:checked~label.sk-toggleable__label-arrow:before {content: \"▾\";}#sk-container-id-1 div.sk-estimator input.sk-toggleable__control:checked~label.sk-toggleable__label {background-color: #d4ebff;}#sk-container-id-1 div.sk-label input.sk-toggleable__control:checked~label.sk-toggleable__label {background-color: #d4ebff;}#sk-container-id-1 input.sk-hidden--visually {border: 0;clip: rect(1px 1px 1px 1px);clip: rect(1px, 1px, 1px, 1px);height: 1px;margin: -1px;overflow: hidden;padding: 0;position: absolute;width: 1px;}#sk-container-id-1 div.sk-estimator {font-family: monospace;background-color: #f0f8ff;border: 1px dotted black;border-radius: 0.25em;box-sizing: border-box;margin-bottom: 0.5em;}#sk-container-id-1 div.sk-estimator:hover {background-color: #d4ebff;}#sk-container-id-1 div.sk-parallel-item::after {content: \"\";width: 100%;border-bottom: 1px solid gray;flex-grow: 1;}#sk-container-id-1 div.sk-label:hover label.sk-toggleable__label {background-color: #d4ebff;}#sk-container-id-1 div.sk-serial::before {content: \"\";position: absolute;border-left: 1px solid gray;box-sizing: border-box;top: 0;bottom: 0;left: 50%;z-index: 0;}#sk-container-id-1 div.sk-serial {display: flex;flex-direction: column;align-items: center;background-color: white;padding-right: 0.2em;padding-left: 0.2em;position: relative;}#sk-container-id-1 div.sk-item {position: relative;z-index: 1;}#sk-container-id-1 div.sk-parallel {display: flex;align-items: stretch;justify-content: center;background-color: white;position: relative;}#sk-container-id-1 div.sk-item::before, #sk-container-id-1 div.sk-parallel-item::before {content: \"\";position: absolute;border-left: 1px solid gray;box-sizing: border-box;top: 0;bottom: 0;left: 50%;z-index: -1;}#sk-container-id-1 div.sk-parallel-item {display: flex;flex-direction: column;z-index: 1;position: relative;background-color: white;}#sk-container-id-1 div.sk-parallel-item:first-child::after {align-self: flex-end;width: 50%;}#sk-container-id-1 div.sk-parallel-item:last-child::after {align-self: flex-start;width: 50%;}#sk-container-id-1 div.sk-parallel-item:only-child::after {width: 0;}#sk-container-id-1 div.sk-dashed-wrapped {border: 1px dashed gray;margin: 0 0.4em 0.5em 0.4em;box-sizing: border-box;padding-bottom: 0.4em;background-color: white;}#sk-container-id-1 div.sk-label label {font-family: monospace;font-weight: bold;display: inline-block;line-height: 1.2em;}#sk-container-id-1 div.sk-label-container {text-align: center;}#sk-container-id-1 div.sk-container {/* jupyter's `normalize.less` sets `[hidden] { display: none; }` but bootstrap.min.css set `[hidden] { display: none !important; }` so we also need the `!important` here to be able to override the default hidden behavior on the sphinx rendered scikit-learn.org. See: https://github.com/scikit-learn/scikit-learn/issues/21755 */display: inline-block !important;position: relative;}#sk-container-id-1 div.sk-text-repr-fallback {display: none;}</style><div id=\"sk-container-id-1\" class=\"sk-top-container\"><div class=\"sk-text-repr-fallback\"><pre>DecisionTreeRegressor(max_depth=4, max_features=4)</pre><b>In a Jupyter environment, please rerun this cell to show the HTML representation or trust the notebook. <br />On GitHub, the HTML representation is unable to render, please try loading this page with nbviewer.org.</b></div><div class=\"sk-container\" hidden><div class=\"sk-item\"><div class=\"sk-estimator sk-toggleable\"><input class=\"sk-toggleable__control sk-hidden--visually\" id=\"sk-estimator-id-1\" type=\"checkbox\" checked><label for=\"sk-estimator-id-1\" class=\"sk-toggleable__label sk-toggleable__label-arrow\">DecisionTreeRegressor</label><div class=\"sk-toggleable__content\"><pre>DecisionTreeRegressor(max_depth=4, max_features=4)</pre></div></div></div></div></div>"
      ],
      "text/plain": [
       "DecisionTreeRegressor(max_depth=4, max_features=4)"
      ]
     },
     "execution_count": 33,
     "metadata": {},
     "output_type": "execute_result"
    }
   ],
   "source": [
    "tree.fit(X_train, y_train)"
   ]
  },
  {
   "cell_type": "code",
   "execution_count": 34,
   "id": "88027da0",
   "metadata": {},
   "outputs": [],
   "source": [
    "predictions = tree.predict(X_test)"
   ]
  },
  {
   "cell_type": "code",
   "execution_count": 35,
   "id": "45b8dba0",
   "metadata": {
    "scrolled": true
   },
   "outputs": [
    {
     "name": "stdout",
     "output_type": "stream",
     "text": [
      "Mean Absolute Error: 191016.90135842178\n",
      "Mean Squared Error: 59442985494.8596\n",
      "Root Mean Squared Error: 243809.3220015584\n",
      "r2_score: 0.14414564067234314\n"
     ]
    }
   ],
   "source": [
    "print('Mean Absolute Error:', mean_absolute_error(y_test,predictions))\n",
    "print('Mean Squared Error:', mean_squared_error(y_test,predictions))\n",
    "print('Root Mean Squared Error:', np.sqrt(mean_squared_error(y_test,predictions)))\n",
    "print('r2_score:', r2_score(y_test,predictions))"
   ]
  },
  {
   "cell_type": "code",
   "execution_count": 36,
   "id": "92439759",
   "metadata": {
    "scrolled": true
   },
   "outputs": [
    {
     "data": {
      "text/plain": [
       "array([0.        , 0.        , 0.05196462, 0.02615255, 0.59195933,\n",
       "       0.        , 0.00854072, 0.        , 0.01607731, 0.00851988,\n",
       "       0.01300294, 0.28378265])"
      ]
     },
     "execution_count": 36,
     "metadata": {},
     "output_type": "execute_result"
    }
   ],
   "source": [
    "tree.feature_importances_"
   ]
  },
  {
   "cell_type": "code",
   "execution_count": 37,
   "id": "1f1900db",
   "metadata": {
    "scrolled": true
   },
   "outputs": [
    {
     "data": {
      "text/plain": [
       "ATM_ID          0.591959\n",
       "DAYOFMONTH      0.283783\n",
       "BANK_ID         0.051965\n",
       "STATE           0.026153\n",
       "MONTH           0.016077\n",
       "DAYOFYEAR       0.013003\n",
       "DAYOFWEEK       0.008541\n",
       "YEAR            0.008520\n",
       "WEEKDAY_FLAG    0.000000\n",
       "HOLIDAY_FLAG    0.000000\n",
       "HOUR            0.000000\n",
       "QUARTER         0.000000\n",
       "dtype: float64"
      ]
     },
     "execution_count": 37,
     "metadata": {},
     "output_type": "execute_result"
    }
   ],
   "source": [
    "pd.Series(tree.feature_importances_,index=features).sort_values(ascending=False)"
   ]
  },
  {
   "cell_type": "code",
   "execution_count": 38,
   "id": "80eb9149",
   "metadata": {},
   "outputs": [],
   "source": [
    "param_grid = [{\"max_depth\":[3,4,5, None], \"max_features\":[3,4,5,6,7]}]"
   ]
  },
  {
   "cell_type": "code",
   "execution_count": 39,
   "id": "9d449123",
   "metadata": {},
   "outputs": [],
   "source": [
    "gs = GridSearchCV(estimator=DecisionTreeRegressor(random_state=123),param_grid = param_grid,cv=10)"
   ]
  },
  {
   "cell_type": "code",
   "execution_count": null,
   "id": "d0690cf3",
   "metadata": {},
   "outputs": [],
   "source": [
    "gs.fit(X_train, y_train)"
   ]
  },
  {
   "cell_type": "code",
   "execution_count": null,
   "id": "4e9021bf",
   "metadata": {},
   "outputs": [],
   "source": [
    "gs.cv_results_['params']"
   ]
  },
  {
   "cell_type": "code",
   "execution_count": null,
   "id": "9ff5c785",
   "metadata": {},
   "outputs": [],
   "source": [
    "gs.cv_results_['rank_test_score']"
   ]
  },
  {
   "cell_type": "code",
   "execution_count": null,
   "id": "dde1a5a5",
   "metadata": {},
   "outputs": [],
   "source": [
    "gs.best_estimator_"
   ]
  },
  {
   "cell_type": "code",
   "execution_count": null,
   "id": "9f8ae52d",
   "metadata": {},
   "outputs": [],
   "source": [
    "#Build Tree using Best parameters\n",
    "\n",
    "tree1 = DecisionTreeRegressor(max_features=7, random_state=123)\n",
    "tree1.fit(X_train, y_train)\n",
    "predictions = tree1.predict(X_test)\n",
    "y_pred = predictions"
   ]
  },
  {
   "cell_type": "code",
   "execution_count": null,
   "id": "35ebbaec",
   "metadata": {},
   "outputs": [],
   "source": [
    "X_train.columns"
   ]
  },
  {
   "cell_type": "code",
   "execution_count": null,
   "id": "a6c88402",
   "metadata": {
    "scrolled": true
   },
   "outputs": [],
   "source": [
    "print('Mean Absolute Error:', mean_absolute_error(y_test,predictions))\n",
    "print('Mean Squared Error:', mean_squared_error(y_test,predictions))\n",
    "print('Root Mean Squared Error:', np.sqrt(mean_squared_error(y_test,predictions)))\n",
    "print('r2_score:', r2_score(y_test,predictions))"
   ]
  },
  {
   "cell_type": "code",
   "execution_count": 47,
   "id": "95f7b509",
   "metadata": {},
   "outputs": [],
   "source": [
    "payload_dict = {'DATE': '2023-01-29', 'WEEKDAY_FLAG': 'Y', 'HOLIDAY_FLAG': 'N', 'BANK_ID': 3, 'STATE': 'Maine', 'BANK_NAME': 'Citibank', 'ATM_ID': 'TBH000274025', 'DISPENSED_AMOUNT': 225180.0, 'TOTAL_TRANSACTION_COUNT': 90.0, 'DOWNTIME_IN_MINS': 0.0, 'ATM_MAX_CAPACITY': 2860000.0}"
   ]
  },
  {
   "cell_type": "code",
   "execution_count": 48,
   "id": "a200ce75",
   "metadata": {},
   "outputs": [
    {
     "data": {
      "text/plain": [
       "{'DATE': '2023-01-29',\n",
       " 'WEEKDAY_FLAG': 'Y',\n",
       " 'HOLIDAY_FLAG': 'N',\n",
       " 'BANK_ID': 3,\n",
       " 'STATE': 'Maine',\n",
       " 'BANK_NAME': 'Citibank',\n",
       " 'ATM_ID': 'TBH000274025',\n",
       " 'DISPENSED_AMOUNT': 225180.0,\n",
       " 'TOTAL_TRANSACTION_COUNT': 90.0,\n",
       " 'DOWNTIME_IN_MINS': 0.0,\n",
       " 'ATM_MAX_CAPACITY': 2860000.0}"
      ]
     },
     "execution_count": 48,
     "metadata": {},
     "output_type": "execute_result"
    }
   ],
   "source": [
    "eval(str(payload_dict))"
   ]
  },
  {
   "cell_type": "code",
   "execution_count": 49,
   "id": "cc4206bf",
   "metadata": {},
   "outputs": [
    {
     "data": {
      "text/html": [
       "<div>\n",
       "<style scoped>\n",
       "    .dataframe tbody tr th:only-of-type {\n",
       "        vertical-align: middle;\n",
       "    }\n",
       "\n",
       "    .dataframe tbody tr th {\n",
       "        vertical-align: top;\n",
       "    }\n",
       "\n",
       "    .dataframe thead th {\n",
       "        text-align: right;\n",
       "    }\n",
       "</style>\n",
       "<table border=\"1\" class=\"dataframe\">\n",
       "  <thead>\n",
       "    <tr style=\"text-align: right;\">\n",
       "      <th></th>\n",
       "      <th>DATE</th>\n",
       "      <th>WEEKDAY_FLAG</th>\n",
       "      <th>HOLIDAY_FLAG</th>\n",
       "      <th>BANK_ID</th>\n",
       "      <th>STATE</th>\n",
       "      <th>BANK_NAME</th>\n",
       "      <th>ATM_ID</th>\n",
       "      <th>DISPENSED_AMOUNT</th>\n",
       "      <th>TOTAL_TRANSACTION_COUNT</th>\n",
       "      <th>DOWNTIME_IN_MINS</th>\n",
       "      <th>ATM_MAX_CAPACITY</th>\n",
       "    </tr>\n",
       "  </thead>\n",
       "  <tbody>\n",
       "    <tr>\n",
       "      <th>0</th>\n",
       "      <td>2023-01-29</td>\n",
       "      <td>Y</td>\n",
       "      <td>N</td>\n",
       "      <td>3</td>\n",
       "      <td>Maine</td>\n",
       "      <td>Citibank</td>\n",
       "      <td>TBH000274025</td>\n",
       "      <td>225180.0</td>\n",
       "      <td>90.0</td>\n",
       "      <td>0.0</td>\n",
       "      <td>2860000.0</td>\n",
       "    </tr>\n",
       "  </tbody>\n",
       "</table>\n",
       "</div>"
      ],
      "text/plain": [
       "         DATE WEEKDAY_FLAG HOLIDAY_FLAG  BANK_ID  STATE BANK_NAME  \\\n",
       "0  2023-01-29            Y            N        3  Maine  Citibank   \n",
       "\n",
       "         ATM_ID  DISPENSED_AMOUNT  TOTAL_TRANSACTION_COUNT  DOWNTIME_IN_MINS  \\\n",
       "0  TBH000274025          225180.0                     90.0               0.0   \n",
       "\n",
       "   ATM_MAX_CAPACITY  \n",
       "0         2860000.0  "
      ]
     },
     "execution_count": 49,
     "metadata": {},
     "output_type": "execute_result"
    }
   ],
   "source": [
    "pd.DataFrame(payload_dict,index=[0])"
   ]
  },
  {
   "cell_type": "code",
   "execution_count": 50,
   "id": "c863f004",
   "metadata": {},
   "outputs": [],
   "source": [
    "@scoring_func\n",
    "def score(model, request):\n",
    "    payload_dict = request.json[\"payload\"]\n",
    "    df = pd.DataFrame(payload_dict,index=[0])\n",
    "    \n",
    "    df['DATE'] = pd.to_datetime(df['DATE'])\n",
    "    df['HOUR'] = df['DATE'].dt.hour\n",
    "    df['DAYOFWEEK'] = df['DATE'].dt.dayofweek\n",
    "    df['QUARTER'] = df['DATE'].dt.quarter\n",
    "    df['MONTH'] = df['DATE'].dt.month\n",
    "    df['YEAR'] = df['DATE'].dt.year\n",
    "    df['DAYOFYEAR'] = df['DATE'].dt.dayofyear\n",
    "    df['DAYOFMONTH'] = df['DATE'].dt.day\n",
    "    df['DATE'] = pd.to_datetime(df['DATE']).dt.strftime(\"%Y-%m-%d %H:%M:%S.%f\")\n",
    "    df['WEEKDAY_FLAG'] = df['WEEKDAY_FLAG'].map({'Y': 1, 'N': 0})\n",
    "    df['HOLIDAY_FLAG'] = df['HOLIDAY_FLAG'].map({'Y': 1, 'N': 0})\n",
    "\n",
    "    df['STATE']= label_encoder.transform(df['STATE'])\n",
    "    df['ATM_ID']= atm_encoder.transform(df['ATM_ID'])\n",
    "    \n",
    "    if 'TOTAL_TRANSACTION_COUNT' in df.columns:\n",
    "        df.drop(['TOTAL_TRANSACTION_COUNT'] ,axis=1, inplace=True)\n",
    "    \n",
    "    if 'DOWNTIME_IN_MINS' in df.columns:\n",
    "        df.drop(['DOWNTIME_IN_MINS'] ,axis=1, inplace=True)\n",
    "        \n",
    "    if 'ATM_MAX_CAPACITY' in df.columns:\n",
    "        df.drop(['ATM_MAX_CAPACITY'] ,axis=1, inplace=True)\n",
    "\n",
    "    df.drop(['DATE','BANK_NAME'], axis=1,inplace=True)\n",
    "    \n",
    "    features = ['WEEKDAY_FLAG', 'HOLIDAY_FLAG', 'BANK_ID', 'STATE', 'ATM_ID','HOUR', 'DAYOFWEEK', \n",
    "                'QUARTER', 'MONTH', 'YEAR','DAYOFYEAR', 'DAYOFMONTH']\n",
    "\n",
    "    data = df[features]\n",
    "\n",
    "    y_pred = model.predict(data)[0]\n",
    "    return y_pred"
   ]
  },
  {
   "cell_type": "code",
   "execution_count": 51,
   "id": "8d1cab94",
   "metadata": {},
   "outputs": [
    {
     "data": {
      "text/plain": [
       "{'DATE': '2023-01-29',\n",
       " 'WEEKDAY_FLAG': 'Y',\n",
       " 'HOLIDAY_FLAG': 'N',\n",
       " 'BANK_ID': 3,\n",
       " 'STATE': 'Maine',\n",
       " 'BANK_NAME': 'Citibank',\n",
       " 'ATM_ID': 'TBH000274025',\n",
       " 'DISPENSED_AMOUNT': 225180.0,\n",
       " 'TOTAL_TRANSACTION_COUNT': 90.0,\n",
       " 'DOWNTIME_IN_MINS': 0.0,\n",
       " 'ATM_MAX_CAPACITY': 2860000.0}"
      ]
     },
     "execution_count": 51,
     "metadata": {},
     "output_type": "execute_result"
    }
   ],
   "source": [
    "df_original_1 = df_original.copy()\n",
    "payload  = df_original.iloc[0].to_dict()\n",
    "#payload1  = df_original.iloc[0].to_dict()\n",
    "payload"
   ]
  },
  {
   "cell_type": "code",
   "execution_count": 52,
   "id": "612fb774",
   "metadata": {
    "scrolled": true
   },
   "outputs": [
    {
     "name": "stdout",
     "output_type": "stream",
     "text": [
      "{ \"payload\":  {'DATE': '2023-01-29', 'WEEKDAY_FLAG': 'Y', 'HOLIDAY_FLAG': 'N', 'BANK_ID': 3, 'STATE': 'Maine', 'BANK_NAME': 'Citibank', 'ATM_ID': 'TBH000274025', 'DISPENSED_AMOUNT': 225180.0, 'TOTAL_TRANSACTION_COUNT': 90.0, 'DOWNTIME_IN_MINS': 0.0, 'ATM_MAX_CAPACITY': 2860000.0} }\n"
     ]
    }
   ],
   "source": [
    "print ('{ \"payload\": ', payload, \"}\")"
   ]
  },
  {
   "cell_type": "code",
   "execution_count": 53,
   "id": "068e0720",
   "metadata": {},
   "outputs": [],
   "source": [
    "df_original_1.drop(['TOTAL_TRANSACTION_COUNT','DOWNTIME_IN_MINS','ATM_MAX_CAPACITY'], inplace=True, axis=1)\n",
    "payload1  = df_original_1.iloc[0].to_dict()"
   ]
  },
  {
   "cell_type": "code",
   "execution_count": 54,
   "id": "bc25c825",
   "metadata": {
    "scrolled": true
   },
   "outputs": [
    {
     "name": "stdout",
     "output_type": "stream",
     "text": [
      "{ \"payload\":  {'DATE': '2023-01-29', 'WEEKDAY_FLAG': 'Y', 'HOLIDAY_FLAG': 'N', 'BANK_ID': 3, 'STATE': 'Maine', 'BANK_NAME': 'Citibank', 'ATM_ID': 'TBH000274025', 'DISPENSED_AMOUNT': 225180.0} }\n"
     ]
    }
   ],
   "source": [
    "print ('{ \"payload\": ', payload1, \"}\")"
   ]
  },
  {
   "cell_type": "code",
   "execution_count": 55,
   "id": "745e4aa2",
   "metadata": {},
   "outputs": [
    {
     "data": {
      "text/plain": [
       "361830.05320568156"
      ]
     },
     "execution_count": 55,
     "metadata": {},
     "output_type": "execute_result"
    }
   ],
   "source": [
    "req = requests.Request()\n",
    "req.json = {\"payload\":payload1}\n",
    "#req.json = {\"payload\":payload}\n",
    "y_req = req\n",
    "score(tree, y_req)"
   ]
  },
  {
   "cell_type": "code",
   "execution_count": 56,
   "id": "d13e3484",
   "metadata": {},
   "outputs": [
    {
     "data": {
      "text/plain": [
       "361830.05320568156"
      ]
     },
     "execution_count": 56,
     "metadata": {},
     "output_type": "execute_result"
    }
   ],
   "source": [
    "req = requests.Request()\n",
    "req.json = {\"payload\":payload}\n",
    "y_req = req\n",
    "score(tree, y_req)"
   ]
  },
  {
   "cell_type": "code",
   "execution_count": 57,
   "id": "cbe71e8f",
   "metadata": {},
   "outputs": [],
   "source": [
    "y_prediction = pd.Series(y_pred)"
   ]
  },
  {
   "cell_type": "code",
   "execution_count": 58,
   "id": "f35ab419",
   "metadata": {},
   "outputs": [
    {
     "data": {
      "text/plain": [
       "0        211320.0\n",
       "1        776250.0\n",
       "2        383580.0\n",
       "3        183600.0\n",
       "4        443790.0\n",
       "           ...   \n",
       "67945    636480.0\n",
       "67946    705060.0\n",
       "67947    441900.0\n",
       "67948    260550.0\n",
       "67949    508050.0\n",
       "Length: 67950, dtype: float64"
      ]
     },
     "execution_count": 58,
     "metadata": {},
     "output_type": "execute_result"
    }
   ],
   "source": [
    "y_prediction"
   ]
  },
  {
   "cell_type": "code",
   "execution_count": 59,
   "id": "c86110af",
   "metadata": {
    "scrolled": false
   },
   "outputs": [
    {
     "data": {
      "text/plain": [
       "(pandas.core.frame.DataFrame,\n",
       " pandas.core.frame.DataFrame,\n",
       " pandas.core.series.Series,\n",
       " pandas.core.series.Series,\n",
       " numpy.ndarray,\n",
       " pandas.core.series.Series)"
      ]
     },
     "execution_count": 59,
     "metadata": {},
     "output_type": "execute_result"
    }
   ],
   "source": [
    "type(X_train), type(X_test), type(y_train), type(y_test), type(y_pred), type(y_prediction)"
   ]
  },
  {
   "cell_type": "code",
   "execution_count": 60,
   "id": "7caa84ff",
   "metadata": {
    "scrolled": true
   },
   "outputs": [
    {
     "name": "stdout",
     "output_type": "stream",
     "text": [
      "Calculating build time metrics\n",
      "\n",
      "Progress: ██████████████████████████████████████████████████████████████████████ 100.0%\n"
     ]
    },
    {
     "data": {
      "application/vnd.jupyter.widget-view+json": {
       "model_id": "d3b00806e00f461483c4547d9d897dc6",
       "version_major": 2,
       "version_minor": 0
      },
      "text/plain": [
       "VBox(children=(HTML(value='<style>.grad_1{background: #2468a4;} .grad_2{ color:white; background: #2468a4;}</s…"
      ]
     },
     "metadata": {},
     "output_type": "display_data"
    }
   ],
   "source": [
    "## registering the model in Fosfor.\n",
    "model_reg = register_model(tree1,\n",
    "               score, \n",
    "               name=\"ATM_DispenseAMT_Dtree_Regression\", \n",
    "               description=\"ATM Dispense Amount DTree Regression\",\n",
    "               flavour=MLModelFlavours.sklearn,\n",
    "               model_type=\"regression\",\n",
    "               init_script=\"\\\\n pip install fosforml \\\\n pip install fosforio[snowflake] \\\\n pip install seaborn \\\\n pip install snowflake-connector-python[pandas]\",\n",
    "               y_true=y_test,\n",
    "               y_pred=y_prediction,\n",
    "               #prob=y_prob,\n",
    "               features=X_train.columns,\n",
    "               input_type=\"json\", \n",
    "               explain_ai=True,\n",
    "               x_train=X_train, \n",
    "               x_test=X_test, \n",
    "               y_train=y_train.tolist(),\n",
    "               y_test=y_test.tolist(),\n",
    "               feature_names=X_train.columns.tolist(),\n",
    "               original_features=X_train.columns.tolist(),\n",
    "               feature_ids=X_train.columns,\n",
    "               kyd=True, kyd_score = True)"
   ]
  },
  {
   "cell_type": "markdown",
   "id": "c342aa36",
   "metadata": {},
   "source": [
    "# 2nd Version of Dtree model"
   ]
  },
  {
   "cell_type": "code",
   "execution_count": 61,
   "id": "4fdb3a66",
   "metadata": {},
   "outputs": [
    {
     "name": "stdout",
     "output_type": "stream",
     "text": [
      "Mean Absolute Error: 2071.1774834437088\n",
      "Mean Squared Error: 729123308.4635762\n",
      "Root Mean Squared Error: 27002.283393512782\n",
      "r2_score: 0.989476592295161\n"
     ]
    }
   ],
   "source": [
    "tree2 = DecisionTreeRegressor(max_features=8, random_state=123)\n",
    "tree2.fit(X_train, y_train)\n",
    "predictions = tree2.predict(X_test)\n",
    "y_pred = predictions\n",
    "y_prediction = pd.Series(y_pred)\n",
    "\n",
    "\n",
    "print('Mean Absolute Error:', mean_absolute_error(y_test,predictions))\n",
    "print('Mean Squared Error:', mean_squared_error(y_test,predictions))\n",
    "print('Root Mean Squared Error:', np.sqrt(mean_squared_error(y_test,predictions)))\n",
    "print('r2_score:', r2_score(y_test,predictions))"
   ]
  },
  {
   "cell_type": "code",
   "execution_count": 62,
   "id": "7abf6732",
   "metadata": {},
   "outputs": [
    {
     "name": "stdout",
     "output_type": "stream",
     "text": [
      "Calculating build time metrics\n",
      "\n",
      "Progress: ██████████████████████████████████████████████████████████████████████ 100.0%\n"
     ]
    },
    {
     "data": {
      "application/vnd.jupyter.widget-view+json": {
       "model_id": "bf291e1946d0416a8a771071fa5b0d20",
       "version_major": 2,
       "version_minor": 0
      },
      "text/plain": [
       "VBox(children=(HTML(value='<style>.grad_1{background: #2468a4;} .grad_2{ color:white; background: #2468a4;}</s…"
      ]
     },
     "metadata": {},
     "output_type": "display_data"
    }
   ],
   "source": [
    "## registering the model in Fosfor.\n",
    "model_reg = register_model(tree2,\n",
    "               score, \n",
    "               name=\"ATM_DispenseAMT_Dtree_Regression\", \n",
    "               description=\"ATM Dispense Amount DTree Regression\",\n",
    "               flavour=MLModelFlavours.sklearn,\n",
    "               model_type=\"regression\",\n",
    "               init_script=\"\\\\n pip install fosforml \\\\n pip install fosforio[snowflake] \\\\n pip install seaborn \\\\n pip install snowflake-connector-python[pandas]\",\n",
    "               y_true=y_test,\n",
    "               y_pred=y_prediction,\n",
    "               #prob=y_prob,\n",
    "               features=X_train.columns,\n",
    "               input_type=\"json\", \n",
    "               explain_ai=True,\n",
    "               x_train=X_train, \n",
    "               x_test=X_test, \n",
    "               y_train=y_train.tolist(),\n",
    "               y_test=y_test.tolist(),\n",
    "               feature_names=X_train.columns.tolist(),\n",
    "               original_features=X_train.columns.tolist(),\n",
    "               feature_ids=X_train.columns,\n",
    "               kyd=True, kyd_score = True)"
   ]
  },
  {
   "cell_type": "code",
   "execution_count": null,
   "id": "a247e704",
   "metadata": {},
   "outputs": [],
   "source": [
    "from mosaic_utils.ai.file_utils import pickle_loads, pickle_dumps\n",
    "pickle_dumps(X_train,\"/tmp/aa\")\n",
    "pickle_loads(\"/tmp/aa\")"
   ]
  },
  {
   "cell_type": "code",
   "execution_count": null,
   "id": "d5fce1e5",
   "metadata": {},
   "outputs": [],
   "source": [
    "!pip freeze | grep pandas"
   ]
  },
  {
   "cell_type": "markdown",
   "id": "e9404522",
   "metadata": {},
   "source": [
    "# Use Snowflake Data for Model Prediction"
   ]
  },
  {
   "cell_type": "code",
   "execution_count": null,
   "id": "cf903e12",
   "metadata": {},
   "outputs": [],
   "source": [
    "df = snowflake.get_dataframe(\"ATM_TRANSACTION_MASTER_DATA\")"
   ]
  },
  {
   "cell_type": "code",
   "execution_count": null,
   "id": "29ea9995",
   "metadata": {},
   "outputs": [],
   "source": [
    "df = df[df['DISPENSED_AMOUNT'] > 0]"
   ]
  },
  {
   "cell_type": "code",
   "execution_count": null,
   "id": "265a9cc7",
   "metadata": {},
   "outputs": [],
   "source": [
    "df.columns"
   ]
  },
  {
   "cell_type": "code",
   "execution_count": null,
   "id": "142447a5",
   "metadata": {},
   "outputs": [],
   "source": [
    "df_train = df.sample(frac = 0.7)\n",
    "df_test = df.drop(df_train.index)"
   ]
  },
  {
   "cell_type": "code",
   "execution_count": null,
   "id": "ada5f8e1",
   "metadata": {},
   "outputs": [],
   "source": [
    "df_train.shape, df_test.shape"
   ]
  },
  {
   "cell_type": "code",
   "execution_count": null,
   "id": "25b02c9c",
   "metadata": {},
   "outputs": [],
   "source": [
    "def get_prediction(data):\n",
    "    df = data.copy()\n",
    "    to_drop = ['ATM_STATE_DETAILS_STATE','MALE_POPULATION','FEMALE_POPULATION','TOTAL_POPULATION','NO_OF_VETERANS','FOREIGN_BORN','AVG_HOUSEHOLD_SIZE','LANDAREA_SQ_MILE','POPULATION_RATIO','POPULATION_DENSITY','MEDIAN_HOUSE_INCOME']\n",
    "    df.drop(to_drop, inplace=True, axis=1)\n",
    "    df['DATE'] = pd.to_datetime(df['DATE'])\n",
    "    df['HOUR'] = df['DATE'].dt.hour\n",
    "    df['DAYOFWEEK'] = df['DATE'].dt.dayofweek\n",
    "    df['QUARTER'] = df['DATE'].dt.quarter\n",
    "    df['MONTH'] = df['DATE'].dt.month\n",
    "    df['YEAR'] = df['DATE'].dt.year\n",
    "    df['DAYOFYEAR'] = df['DATE'].dt.dayofyear\n",
    "    df['DAYOFMONTH'] = df['DATE'].dt.day\n",
    "    df['DATE'] = pd.to_datetime(df['DATE']).dt.strftime(\"%Y-%m-%d %H:%M:%S.%f\")\n",
    "    \n",
    "    df['WEEKDAY_FLAG'] = df['WEEKDAY_FLAG'].map({'Y': 1, 'N': 0})\n",
    "    df['HOLIDAY_FLAG'] = df['HOLIDAY_FLAG'].map({'Y': 1, 'N': 0})\n",
    "    \n",
    "    df['STATE']= label_encoder.transform(df['STATE'])\n",
    "    df['ATM_ID']= atm_encoder.transform(df['ATM_ID'])\n",
    "    \n",
    "    df.drop(['DATE','BANK_NAME'], axis=1,inplace=True)\n",
    "    \n",
    "    features = ['WEEKDAY_FLAG', 'HOLIDAY_FLAG', 'BANK_ID', 'STATE', 'ATM_ID','HOUR', 'DAYOFWEEK', \n",
    "                'QUARTER', 'MONTH', 'YEAR','DAYOFYEAR', 'DAYOFMONTH']\n",
    "    \n",
    "    X_feat = df[features]\n",
    "    return tree.predict(X_feat)"
   ]
  },
  {
   "cell_type": "code",
   "execution_count": null,
   "id": "f8b6874e",
   "metadata": {},
   "outputs": [],
   "source": [
    "df_train_y  = get_prediction(df_train)\n",
    "df_test_y  = get_prediction(df_test)"
   ]
  },
  {
   "cell_type": "code",
   "execution_count": null,
   "id": "0c6b3c62",
   "metadata": {},
   "outputs": [],
   "source": [
    "df_train['PREDICTED_DISPENSE_AMOUNT'] = df_train_y\n",
    "df_test['PREDICTED_DISPENSE_AMOUNT'] = df_test_y"
   ]
  },
  {
   "cell_type": "code",
   "execution_count": null,
   "id": "bf347e52",
   "metadata": {},
   "outputs": [],
   "source": [
    "df_train['DATE'] = pd.to_datetime(df_train['DATE']).dt.strftime(\"%Y-%m-%d %H:%M:%S.%f\")\n",
    "df_test['DATE'] = pd.to_datetime(df_test['DATE']).dt.strftime(\"%Y-%m-%d %H:%M:%S.%f\")"
   ]
  },
  {
   "cell_type": "code",
   "execution_count": null,
   "id": "bc9ef985",
   "metadata": {
    "scrolled": true
   },
   "outputs": [],
   "source": [
    "df_train.head()"
   ]
  },
  {
   "cell_type": "code",
   "execution_count": null,
   "id": "66cee309",
   "metadata": {},
   "outputs": [],
   "source": [
    "df_train.to_csv('/data/Output/transaction_train_output.csv',index=True)\n",
    "df_test.to_csv('/data/Output/transaction_test_output.csv',index=True)"
   ]
  },
  {
   "cell_type": "markdown",
   "id": "4fafba2d",
   "metadata": {},
   "source": [
    "# Push the output to Snowflake tables"
   ]
  },
  {
   "cell_type": "code",
   "execution_count": null,
   "id": "9f566884",
   "metadata": {},
   "outputs": [],
   "source": [
    "from snowflake.snowpark import Session\n",
    "import warnings; warnings.simplefilter('ignore')\n",
    "import configparser"
   ]
  },
  {
   "cell_type": "code",
   "execution_count": null,
   "id": "da01ec77",
   "metadata": {},
   "outputs": [],
   "source": [
    "#Import all snowflake connection details from template variables.\n",
    "db_user = 'MANISH'\n",
    "db_password = 'Password@2023'\n",
    "db_account = 'ug94937.us-east4.gcp'\n",
    "db_database =  'FDC_BANKING_FS'\n",
    "db_role = 'MANISH'\n",
    "db_warehouse = 'FOSFOR_SOLUTIONS_WH'\n",
    "db_schema = 'PUBLIC'"
   ]
  },
  {
   "cell_type": "code",
   "execution_count": null,
   "id": "23e35eca",
   "metadata": {},
   "outputs": [],
   "source": [
    "from snowflake.snowpark.session import Session\n",
    "connection_params = {\n",
    "    'user': db_user,\n",
    "    'password': db_password,\n",
    "    'account': db_account,\n",
    "    'warehouse': db_warehouse,\n",
    "    'database': db_database,\n",
    "    'schema': db_schema,\n",
    "    'role': db_role\n",
    "}\n",
    "session1 = Session.builder.configs(connection_params).create()"
   ]
  },
  {
   "cell_type": "code",
   "execution_count": null,
   "id": "b4f332cc",
   "metadata": {},
   "outputs": [],
   "source": [
    "df_train_sf=session1.createDataFrame(\n",
    "        df_train.values.tolist(),\n",
    "        schema=df_train.columns.tolist())\n",
    "df_train_sf.write.mode(\"overwrite\").save_as_table(\"FDC_BANKING_FS.PUBLIC.ATM_TRANSACTION_TRAIN_OUTPUT\")"
   ]
  },
  {
   "cell_type": "code",
   "execution_count": null,
   "id": "3abe013f",
   "metadata": {},
   "outputs": [],
   "source": [
    "df_test_sf=session1.createDataFrame(\n",
    "        df_test.values.tolist(),\n",
    "        schema=df_test.columns.tolist())\n",
    "df_test_sf.write.mode(\"overwrite\").save_as_table(\"FDC_BANKING_FS.PUBLIC.ATM_TRANSACTION_TEST_OUTPUT\")"
   ]
  },
  {
   "cell_type": "markdown",
   "id": "7f951741",
   "metadata": {},
   "source": [
    "# Run below query on snowflake to final demo setup\n",
    "\n",
    "ALTER TABLE FDC_BANKING_FS.PUBLIC.ATM_TRANSACTION_TEST_OUTPUT ADD COLUMN REPORT_DATE DATE\n",
    "UPDATE TABLE FDC_BANKING_FS.PUBLIC.ATM_TRANSACTION_TEST_OUTPUT\n",
    "SET REPORT_DATE =  TO_DATE(DATE)\n",
    "\n",
    "ALTER TABLE FDC_BANKING_FS.PUBLIC.ATM_TRANSACTION_TRAIN_OUTPUT ADD COLUMN REPORT_DATE DATE\n",
    "UPDATE FDC_BANKING_FS.PUBLIC.ATM_TRANSACTION_TRAIN_OUTPUT\n",
    "SET REPORT_DATE =  TO_DATE(DATE)"
   ]
  }
 ],
 "metadata": {
  "kernelspec": {
   "display_name": "Python 3",
   "language": "python",
   "name": "python3"
  },
  "language_info": {
   "codemirror_mode": {
    "name": "ipython",
    "version": 3
   },
   "file_extension": ".py",
   "mimetype": "text/x-python",
   "name": "python",
   "nbconvert_exporter": "python",
   "pygments_lexer": "ipython3",
   "version": "3.8.18"
  }
 },
 "nbformat": 4,
 "nbformat_minor": 5
}
